{
 "cells": [
  {
   "cell_type": "markdown",
   "metadata": {},
   "source": [
    "# Python-3\n",
    "## 2020-05-15"
   ]
  },
  {
   "cell_type": "code",
   "execution_count": 16,
   "metadata": {},
   "outputs": [
    {
     "output_type": "stream",
     "name": "stdout",
     "text": ":В:ы: :-: :с:а:м:ы:й: :к:р:у:т:о:й: :с:т:у:д:е:н:т: :в: :S:k:i:l:l:F:a:c:t:o:r:y"
    },
    {
     "output_type": "execute_result",
     "data": {
      "text/plain": "'yrotcaFllikS в тнедутс йотурк йымас - ыВ'"
     },
     "metadata": {},
     "execution_count": 16
    }
   ],
   "source": [
    "type('')\n",
    "string = 'Вы - самый крутой студент в SkillFactory'\n",
    "for letter in string:\n",
    "    print(':' + letter, end = '')\n",
    "\n",
    "string[0::6]\n",
    "string[-1::-1]\n"
   ]
  },
  {
   "cell_type": "code",
   "execution_count": 40,
   "metadata": {},
   "outputs": [
    {
     "output_type": "execute_result",
     "data": {
      "text/plain": "'устройстваo'"
     },
     "metadata": {},
     "execution_count": 40
    }
   ],
   "source": [
    "proverb = 'Программисты - это устройства, преобразующие кофеин в код.'\n",
    "proverb[0:11]\n",
    "\n",
    "proverb[-13:-9]\n",
    "\n",
    "proverb[19:28]+'o'\n",
    "proverb.split()[3][:-2]+'o'\n",
    "\n",
    "proverb[19:29].split()[0]+'o'"
   ]
  },
  {
   "cell_type": "code",
   "execution_count": 74,
   "metadata": {},
   "outputs": [
    {
     "output_type": "stream",
     "name": "stdout",
     "text": "ргамсы-эоутосв,пебаущекфи  о.\nПормит  т срйта рорзюи оенвкд\n"
    },
    {
     "output_type": "execute_result",
     "data": {
      "text/plain": "'рПгоарммсиыт- э оту тсорсйвт,ап ербоарузщюеик фоие н вок.д'"
     },
     "metadata": {},
     "execution_count": 74
    }
   ],
   "source": [
    "proverb = 'Программисты - это устройства, преобразующие кофеин в код.'\n",
    "\n",
    "odd_str = proverb[1::2]\n",
    "even_str = proverb[::2]\n",
    "\n",
    "new_proverb = ''.join([odd_str[i] + even_str[i] for i in range(len(odd_str))])\n"
   ]
  },
  {
   "cell_type": "code",
   "execution_count": 80,
   "metadata": {},
   "outputs": [
    {
     "output_type": "stream",
     "name": "stdout",
     "text": "Слово \"программирование\" - это не палиндром\n"
    }
   ],
   "source": [
    "basic_word = 'программирование'\n",
    "\n",
    "inverted_word = basic_word[-1::-1]\n",
    "\n",
    "if basic_word == inverted_word:\n",
    "    print('Слово \"' + basic_word +'\" является палиндромом')\n",
    "else:\n",
    "    print('Слово \"' + basic_word + '\" - это не палиндром')"
   ]
  },
  {
   "cell_type": "markdown",
   "metadata": {},
   "source": [
    "## 3.3"
   ]
  },
  {
   "cell_type": "markdown",
   "metadata": {},
   "source": [
    "### 3.3.3"
   ]
  },
  {
   "cell_type": "code",
   "execution_count": 85,
   "metadata": {},
   "outputs": [
    {
     "output_type": "execute_result",
     "data": {
      "text/plain": "'macadmin.ru'"
     },
     "metadata": {},
     "execution_count": 85
    }
   ],
   "source": [
    "email = 'tm@macadmin.ru'\n",
    "\n",
    "email[email.find('@')+1:]\n"
   ]
  },
  {
   "cell_type": "markdown",
   "metadata": {},
   "source": [
    "### 3.3.4"
   ]
  },
  {
   "cell_type": "code",
   "execution_count": 91,
   "metadata": {},
   "outputs": [
    {
     "output_type": "stream",
     "name": "stdout",
     "text": "14\n"
    }
   ],
   "source": [
    "number = 56.257\n",
    "\n",
    "print(sum([int(s) for s in str(number)[str(number).find('.')+1:]]))"
   ]
  },
  {
   "cell_type": "markdown",
   "metadata": {},
   "source": [
    "### 3.3.5"
   ]
  },
  {
   "cell_type": "code",
   "execution_count": 100,
   "metadata": {},
   "outputs": [
    {
     "output_type": "execute_result",
     "data": {
      "text/plain": "{'mail.ru': 3, 'yandex.ru': 5, 'gmail.com': 2}"
     },
     "metadata": {},
     "execution_count": 100
    }
   ],
   "source": [
    "emails_list = ['vasya@mail.ru', \n",
    "          'akakiy@yandex.ru', \n",
    "          'spyderman@yandex.ru', \n",
    "          'XFiles@gmail.com', \n",
    "          'hello@mail.ru', \n",
    "          'noname@gmail.com', \n",
    "          'DonaldTrump@mail.ru', \n",
    "          'a768#af@yandex.ru', \n",
    "          'Ivan_Ivanovich@yandex.ru', \n",
    "          'thebestmail@yandex.ru']\n",
    "\n",
    "emails_dict = {}\n",
    "\n",
    "for email in emails_list:\n",
    "    domain = email[email.find('@')+1:]\n",
    "\n",
    "    if domain in emails_dict.keys():\n",
    "        emails_dict[domain] += 1\n",
    "    else:\n",
    "        emails_dict[domain] = 1\n",
    "\n",
    "emails_dict"
   ]
  },
  {
   "cell_type": "markdown",
   "metadata": {},
   "source": [
    "## 3.4"
   ]
  },
  {
   "cell_type": "markdown",
   "metadata": {},
   "source": [
    "### 3.4.4"
   ]
  },
  {
   "cell_type": "code",
   "execution_count": 5,
   "metadata": {},
   "outputs": [
    {
     "output_type": "execute_result",
     "data": {
      "text/plain": "'Тяжёлая интернет:)зависимость :) это когда ты выходишь из интернета:) а он из тебя нет:)'"
     },
     "metadata": {},
     "execution_count": 5
    }
   ],
   "source": [
    "string = 'Тяжёлая интернет-зависимость - это когда ты выходишь из интернета, а он из тебя нет.'\n",
    "\n",
    "new_str = []\n",
    "for letter in string:\n",
    "    if letter in ['.', ',', ':', '-', '!', '?']:\n",
    "        new_str.append(':)')\n",
    "    else:\n",
    "        new_str.append(letter)\n",
    "\n",
    "string = ''.join(new_str)\n",
    "string"
   ]
  },
  {
   "cell_type": "markdown",
   "metadata": {},
   "source": [
    "### 3.4.5"
   ]
  },
  {
   "cell_type": "code",
   "execution_count": 10,
   "metadata": {},
   "outputs": [
    {
     "output_type": "stream",
     "name": "stdout",
     "text": "А - гласная буква\nн - согласная буква\nн - согласная буква\nа - гласная буква\n"
    }
   ],
   "source": [
    "name = 'Анна'\n",
    "\n",
    "letters = 'а е ё и о у ы э ю я'.split()\n",
    "\n",
    "for l in name:\n",
    "    if l.lower() in letters:\n",
    "        print(l + ' - гласная буква')\n",
    "    else:\n",
    "        print(l + ' - согласная буква')    "
   ]
  },
  {
   "cell_type": "markdown",
   "metadata": {},
   "source": [
    "## 3.5"
   ]
  },
  {
   "cell_type": "code",
   "execution_count": 2,
   "metadata": {},
   "outputs": [],
   "source": [
    "import re"
   ]
  },
  {
   "cell_type": "code",
   "execution_count": 13,
   "metadata": {},
   "outputs": [
    {
     "output_type": "execute_result",
     "data": {
      "text/plain": "['Йо!', 'Учиться,', 'Учиться ', 'Только ']"
     },
     "metadata": {},
     "execution_count": 13
    }
   ],
   "source": [
    "pattern = re.compile('[А-Я][а-я]*\\W')\n",
    "string = '!!! Йо! Учиться, Учиться и учиться! Вперёд! Только вперд!'\n",
    "pattern.match(string)\n",
    "pattern.search(string)\n",
    "pattern.findall(string)"
   ]
  },
  {
   "cell_type": "markdown",
   "metadata": {},
   "source": [
    "### 3.5.1"
   ]
  },
  {
   "cell_type": "code",
   "execution_count": 15,
   "metadata": {},
   "outputs": [],
   "source": [
    "text = 'Разработка языка Python была начата в конце 1980-х годов сотрудником голландского института CWI Гвидо ван Россумом. Для распределённой ОС Amoeba требовался расширяемый скриптовый язык, и Гвидо начал писать Python на досуге, позаимствовав некоторые наработки для языка ABC (Гвидо участвовал в разработке этого языка, ориентированного на обучение программированию). В феврале 1991 года Гвидо опубликовал исходный текст в группе новостей alt.sources. Название языка произошло вовсе не от вида пресмыкающихся. Автор назвал язык в честь популярного британского комедийного телешоу 1970-х \"Летающий цирк Монти Пайтона\".'"
   ]
  },
  {
   "cell_type": "code",
   "execution_count": 18,
   "metadata": {},
   "outputs": [
    {
     "output_type": "execute_result",
     "data": {
      "text/plain": "44"
     },
     "metadata": {},
     "execution_count": 18
    }
   ],
   "source": [
    "pattern = re.compile('\\d+')\n",
    "pattern.search(text)\n",
    "\n",
    "text.find('1')"
   ]
  },
  {
   "cell_type": "markdown",
   "metadata": {},
   "source": [
    "## 3.6"
   ]
  },
  {
   "cell_type": "code",
   "execution_count": 19,
   "metadata": {},
   "outputs": [
    {
     "output_type": "execute_result",
     "data": {
      "text/plain": "['Python', 'CWI', 'Amoeba', 'Python', 'ABC', 'alt', 'sources']"
     },
     "metadata": {},
     "execution_count": 19
    }
   ],
   "source": [
    "pattern = re.compile('[A-Za-z]+')\n",
    "pattern.findall(text)\n"
   ]
  },
  {
   "cell_type": "code",
   "execution_count": 21,
   "metadata": {},
   "outputs": [
    {
     "output_type": "execute_result",
     "data": {
      "text/plain": "['Разработка', 'языка', 'языка', 'языка', 'языка', 'пресмыка']"
     },
     "metadata": {},
     "execution_count": 21
    }
   ],
   "source": [
    "pattern = re.compile('[А-Яа-я]+ка')\n",
    "pattern.findall(text)"
   ]
  },
  {
   "cell_type": "code",
   "execution_count": 22,
   "metadata": {},
   "outputs": [
    {
     "output_type": "execute_result",
     "data": {
      "text/plain": "['асши', 'амми', 'ающи', 'ающи']"
     },
     "metadata": {},
     "execution_count": 22
    }
   ],
   "source": [
    "pattern = re.compile('а\\w\\wи')\n",
    "pattern.findall(text)"
   ]
  },
  {
   "cell_type": "markdown",
   "metadata": {},
   "source": [
    "### 3.6.5"
   ]
  },
  {
   "cell_type": "code",
   "execution_count": 44,
   "metadata": {},
   "outputs": [
    {
     "output_type": "execute_result",
     "data": {
      "text/plain": "22"
     },
     "metadata": {},
     "execution_count": 44
    }
   ],
   "source": [
    "pattern = re.compile('[А-Яа-я]*[АЁЕИОУЫЭЮЯаёеиоуыэюя]\\s[БВГДЖЗЙКЛМНПРСТФХЦЧШЩбвгджзйклмнпрстфхцчшщ]+')\n",
    "len(pattern.findall(text))\n"
   ]
  },
  {
   "cell_type": "markdown",
   "metadata": {},
   "source": [
    "## 3.7"
   ]
  },
  {
   "cell_type": "code",
   "execution_count": 51,
   "metadata": {},
   "outputs": [
    {
     "output_type": "execute_result",
     "data": {
      "text/plain": "'gender'"
     },
     "metadata": {},
     "execution_count": 51
    }
   ],
   "source": [
    "f = open('StudentsPerformance.csv')\n",
    "\n",
    "info = ''\n",
    "for line in f:\n",
    "    info = line\n",
    "    break\n",
    "f.close()\n",
    "info.split(',')[0][1:-1]\n"
   ]
  },
  {
   "cell_type": "markdown",
   "metadata": {},
   "source": [
    "### 3.7.1"
   ]
  },
  {
   "cell_type": "code",
   "execution_count": 53,
   "metadata": {},
   "outputs": [],
   "source": [
    "f = open('StudentsPerformance.csv')\n",
    "\n",
    "parents = 0\n",
    "for line in f:\n",
    "    par_degree = line.split(',')[2]\n",
    "    if 'bachelor' in par_degree:\n",
    "        parents += 1\n",
    "\n",
    "parents\n",
    "f.close()"
   ]
  },
  {
   "cell_type": "markdown",
   "metadata": {},
   "source": [
    "### 3.7.2"
   ]
  },
  {
   "cell_type": "code",
   "execution_count": 55,
   "metadata": {},
   "outputs": [
    {
     "output_type": "execute_result",
     "data": {
      "text/plain": "6"
     },
     "metadata": {},
     "execution_count": 55
    }
   ],
   "source": [
    "f = open('StudentsPerformance.csv')\n",
    "\n",
    "levels = []\n",
    "f.readline()\n",
    "\n",
    "for line in f:\n",
    "    par_degree = line.split(',')[2]\n",
    "    if par_degree in levels:\n",
    "        continue\n",
    "    levels.append(par_degree)\n",
    "\n",
    "f.close()\n",
    "\n",
    "len(levels)"
   ]
  },
  {
   "cell_type": "markdown",
   "metadata": {},
   "source": [
    "### 3.7.3"
   ]
  },
  {
   "cell_type": "code",
   "execution_count": 58,
   "metadata": {},
   "outputs": [
    {
     "output_type": "stream",
     "name": "stdout",
     "text": "lunch: 645, total: 1000\n"
    }
   ],
   "source": [
    "f = open('StudentsPerformance.csv')\n",
    "f.readline()\n",
    "\n",
    "total = 0\n",
    "lunch = 0\n",
    "\n",
    "for line in f:\n",
    "    data = line.split(',')[3]\n",
    "    if 'standard' in data:\n",
    "        lunch += 1\n",
    "    total += 1\n",
    "\n",
    "f.close()\n",
    "\n",
    "print('lunch: {}, total: {}'.format(lunch, total))\n"
   ]
  },
  {
   "cell_type": "markdown",
   "metadata": {},
   "source": [
    "### 3.7.4"
   ]
  },
  {
   "cell_type": "code",
   "execution_count": 60,
   "metadata": {},
   "outputs": [
    {
     "output_type": "execute_result",
     "data": {
      "text/plain": "319"
     },
     "metadata": {},
     "execution_count": 60
    }
   ],
   "source": [
    "f = open('StudentsPerformance.csv')\n",
    "f.readline()\n",
    "\n",
    "race = 0\n",
    "\n",
    "for line in f:\n",
    "    data = line.split(',')[1]\n",
    "    if 'group C' in data:\n",
    "        race += 1\n",
    "\n",
    "f.close()\n",
    "race"
   ]
  },
  {
   "cell_type": "markdown",
   "metadata": {},
   "source": [
    "### 3.7.5"
   ]
  },
  {
   "cell_type": "code",
   "execution_count": 64,
   "metadata": {},
   "outputs": [
    {
     "output_type": "execute_result",
     "data": {
      "text/plain": "5"
     },
     "metadata": {},
     "execution_count": 64
    }
   ],
   "source": [
    "f = open('StudentsPerformance.csv')\n",
    "f.readline()\n",
    "\n",
    "races = []\n",
    "\n",
    "for line in f:\n",
    "    data = line.split(',')[1]\n",
    "    if data in races:\n",
    "        continue\n",
    "    races.append(data)\n",
    "\n",
    "f.close()\n",
    "len(races)"
   ]
  },
  {
   "cell_type": "markdown",
   "metadata": {},
   "source": [
    "## 3.8"
   ]
  },
  {
   "cell_type": "markdown",
   "metadata": {},
   "source": [
    "### 3.8.1"
   ]
  },
  {
   "cell_type": "code",
   "execution_count": 69,
   "metadata": {},
   "outputs": [
    {
     "output_type": "execute_result",
     "data": {
      "text/plain": "69.169"
     },
     "metadata": {},
     "execution_count": 69
    }
   ],
   "source": [
    "f = open('StudentsPerformance.csv')\n",
    "f.readline()\n",
    "\n",
    "reading = []\n",
    "\n",
    "for line in f:\n",
    "    data = line.split(',')[-2]\n",
    "    reading.append(int(data[1:-1]))\n",
    "\n",
    "f.close()\n",
    "\n",
    "avg_read = sum(reading)/len(reading)\n",
    "avg_read"
   ]
  },
  {
   "cell_type": "markdown",
   "metadata": {},
   "source": [
    "### 3.8.2"
   ]
  },
  {
   "cell_type": "code",
   "execution_count": 70,
   "metadata": {},
   "outputs": [
    {
     "output_type": "execute_result",
     "data": {
      "text/plain": "487"
     },
     "metadata": {},
     "execution_count": 70
    }
   ],
   "source": [
    "less_then_avg_read = 0\n",
    "\n",
    "for score in reading:\n",
    "    if score < avg_read:\n",
    "        less_then_avg_read += 1\n",
    "\n",
    "less_then_avg_read"
   ]
  },
  {
   "cell_type": "markdown",
   "metadata": {},
   "source": [
    "### 3.8.3"
   ]
  },
  {
   "cell_type": "code",
   "execution_count": 72,
   "metadata": {},
   "outputs": [
    {
     "output_type": "execute_result",
     "data": {
      "text/plain": "72.60810810810811"
     },
     "metadata": {},
     "execution_count": 72
    }
   ],
   "source": [
    "f = open('StudentsPerformance.csv')\n",
    "f.readline()\n",
    "\n",
    "reading_girls = []\n",
    "\n",
    "for line in f:\n",
    "    data = line.split(',')\n",
    "    score = data[-2]\n",
    "    gender = data[0]\n",
    "    if 'female' in gender:\n",
    "        reading_girls.append(int(score[1:-1]))\n",
    "\n",
    "f.close()\n",
    "\n",
    "avg_read_girls = sum(reading_girls)/len(reading_girls)\n",
    "avg_read_girls"
   ]
  },
  {
   "cell_type": "markdown",
   "metadata": {},
   "source": [
    "### 3.8.4, 3.8.5"
   ]
  },
  {
   "cell_type": "code",
   "execution_count": 86,
   "metadata": {},
   "outputs": [
    {
     "output_type": "execute_result",
     "data": {
      "text/plain": "86.76470588235294"
     },
     "metadata": {},
     "execution_count": 86
    }
   ],
   "source": [
    "import re\n",
    "\n",
    "pattern = re.compile('\\d+')\n",
    "\n",
    "f = open('StudentsPerformance.csv')\n",
    "f.readline()\n",
    "\n",
    "wr_stat_gt_90 = 0\n",
    "# stats = []\n",
    "\n",
    "for line in f:\n",
    "    data = line.split(',')\n",
    "    score = data[-1]\n",
    "    lunch = data[3]\n",
    "    if int(pattern.search(score)[0]) > 90 and 'standard' in lunch:\n",
    "        wr_stat_gt_90 += 1\n",
    "\n",
    "# line = f.readline()\n",
    "\n",
    "f.close()\n",
    "wr_stat_gt_90/68*100\n",
    "\n",
    "# stats\n",
    "# data = line.split(',')\n",
    "# pattern.search(data[-1])[0]\n",
    "# data[3]"
   ]
  },
  {
   "cell_type": "markdown",
   "metadata": {},
   "source": [
    "## 3.9"
   ]
  },
  {
   "cell_type": "markdown",
   "metadata": {},
   "source": [
    "### 3.9.1"
   ]
  },
  {
   "cell_type": "code",
   "execution_count": 2,
   "metadata": {},
   "outputs": [
    {
     "output_type": "execute_result",
     "data": {
      "text/plain": "316"
     },
     "metadata": {},
     "execution_count": 2
    }
   ],
   "source": [
    "f = open('StudentsPerformance.csv')\n",
    "f.readline()\n",
    "\n",
    "total = 0\n",
    "\n",
    "for line in f:\n",
    "    data = line.split(',')\n",
    "    gender = data[0][1:-1]\n",
    "    lunch = data[3]\n",
    "    if gender == 'male' and 'standard' in lunch:\n",
    "        total += 1\n",
    "\n",
    "f.close()\n",
    "\n",
    "total"
   ]
  },
  {
   "cell_type": "markdown",
   "metadata": {},
   "source": [
    "### 3.9.2"
   ]
  },
  {
   "cell_type": "code",
   "execution_count": 4,
   "metadata": {},
   "outputs": [
    {
     "output_type": "execute_result",
     "data": {
      "text/plain": "174"
     },
     "metadata": {},
     "execution_count": 4
    }
   ],
   "source": [
    "f = open('StudentsPerformance.csv')\n",
    "f.readline()\n",
    "\n",
    "total = 0\n",
    "\n",
    "for line in f:\n",
    "    data = line.split(',')\n",
    "    gender = data[0][1:-1]\n",
    "    test = data[4]\n",
    "    if gender == 'male' and 'completed' in test:\n",
    "        total += 1\n",
    "\n",
    "f.close()\n",
    "\n",
    "total"
   ]
  },
  {
   "cell_type": "markdown",
   "metadata": {},
   "source": [
    "### 3.9.3"
   ]
  },
  {
   "cell_type": "code",
   "execution_count": 6,
   "metadata": {},
   "outputs": [
    {
     "output_type": "execute_result",
     "data": {
      "text/plain": "36"
     },
     "metadata": {},
     "execution_count": 6
    }
   ],
   "source": [
    "f = open('StudentsPerformance.csv')\n",
    "f.readline()\n",
    "\n",
    "total = 0\n",
    "\n",
    "for line in f:\n",
    "    data = line.split(',')\n",
    "    gender = data[0][1:-1]\n",
    "    test = data[2]\n",
    "    if gender == 'female' and 'master' in test:\n",
    "        total += 1\n",
    "\n",
    "f.close()\n",
    "\n",
    "total"
   ]
  },
  {
   "cell_type": "markdown",
   "metadata": {},
   "source": [
    "### 3.9.4"
   ]
  },
  {
   "cell_type": "code",
   "execution_count": 8,
   "metadata": {},
   "outputs": [
    {
     "output_type": "execute_result",
     "data": {
      "text/plain": "117"
     },
     "metadata": {},
     "execution_count": 8
    }
   ],
   "source": [
    "f = open('StudentsPerformance.csv')\n",
    "f.readline()\n",
    "\n",
    "total = 0\n",
    "\n",
    "for line in f:\n",
    "    data = line.split(',')\n",
    "    race = data[1]\n",
    "    test = data[4]\n",
    "    if 'group C' in race and 'completed' in test:\n",
    "        total += 1\n",
    "\n",
    "f.close()\n",
    "\n",
    "total"
   ]
  },
  {
   "cell_type": "markdown",
   "metadata": {},
   "source": [
    "### 3.9.5"
   ]
  },
  {
   "cell_type": "code",
   "execution_count": 10,
   "metadata": {},
   "outputs": [
    {
     "output_type": "execute_result",
     "data": {
      "text/plain": "2"
     },
     "metadata": {},
     "execution_count": 10
    }
   ],
   "source": [
    "f = open('StudentsPerformance.csv')\n",
    "f.readline()\n",
    "\n",
    "total = 0\n",
    "\n",
    "for line in f:\n",
    "    data = line.split(',')\n",
    "    gender = data[0][1:-1]\n",
    "    test = data[2]\n",
    "    score_math = int(data[-3][1:-1])\n",
    "    if gender == 'female' and 'master' in test and score_math > 90:\n",
    "        total += 1\n",
    "\n",
    "f.close()\n",
    "\n",
    "total"
   ]
  },
  {
   "cell_type": "markdown",
   "metadata": {},
   "source": [
    "## 3.10"
   ]
  },
  {
   "cell_type": "code",
   "execution_count": 15,
   "metadata": {},
   "outputs": [
    {
     "output_type": "execute_result",
     "data": {
      "text/plain": "[]"
     },
     "metadata": {},
     "execution_count": 15
    }
   ],
   "source": [
    "str = 'test'\n",
    "str[-1::-1] \n",
    "\n",
    "import re\n",
    "pattern = re.compile('\\d\\d\\d')\n",
    "secret = pattern.findall('2 x 2 = 4')\n",
    "secret"
   ]
  },
  {
   "cell_type": "markdown",
   "metadata": {},
   "source": [
    "### 3.10.8"
   ]
  },
  {
   "cell_type": "code",
   "execution_count": 22,
   "metadata": {},
   "outputs": [
    {
     "output_type": "execute_result",
     "data": {
      "text/plain": "65.47302904564316"
     },
     "metadata": {},
     "execution_count": 22
    }
   ],
   "source": [
    "f = open('StudentsPerformance.csv')\n",
    "f.readline()\n",
    "\n",
    "total = 0\n",
    "count = 0\n",
    "scores = []\n",
    "\n",
    "for line in f:\n",
    "    data = line.split(',')\n",
    "    gender = data[0][1:-1]\n",
    "    test = data[2]\n",
    "    score_read = int(data[-2][1:-1])\n",
    "    if gender == 'male':\n",
    "        scores.append(score_read)\n",
    "        count += 1\n",
    "\n",
    "f.close()\n",
    "\n",
    "total\n",
    "# 31558\n",
    "count\n",
    "sum(scores)/count"
   ]
  },
  {
   "cell_type": "markdown",
   "metadata": {},
   "source": [
    "### 3.10.9"
   ]
  },
  {
   "cell_type": "code",
   "execution_count": 30,
   "metadata": {},
   "outputs": [
    {
     "output_type": "execute_result",
     "data": {
      "text/plain": "97.85714285714286"
     },
     "metadata": {},
     "execution_count": 30
    }
   ],
   "source": [
    "f = open('StudentsPerformance.csv')\n",
    "f.readline()\n",
    "\n",
    "count = 0\n",
    "read_scores = []\n",
    "# math_scores = []\n",
    "\n",
    "for line in f:\n",
    "    data = line.split(',')\n",
    "    # gender = data[0][1:-1]\n",
    "    # test = data[2]\n",
    "    score_read = int(data[-2][1:-1])\n",
    "    score_math = int(data[-3][1:-1])\n",
    "    # math_scores.append(score_math)\n",
    "    if score_math == 100:\n",
    "        read_scores.append(score_read)\n",
    "        count += 1\n",
    "\n",
    "f.close()\n",
    "\n",
    "# max_math = max(math_scores)\n",
    "# math_scores\n",
    "# print(max(math_scores))\n",
    "sum(read_scores)/count"
   ]
  },
  {
   "cell_type": "markdown",
   "metadata": {},
   "source": [
    "### 3.10.10"
   ]
  },
  {
   "cell_type": "code",
   "execution_count": 40,
   "metadata": {},
   "outputs": [
    {
     "output_type": "execute_result",
     "data": {
      "text/plain": "63.02253521126761"
     },
     "metadata": {},
     "execution_count": 40
    }
   ],
   "source": [
    "f = open('StudentsPerformance.csv')\n",
    "f.readline()\n",
    "\n",
    "write_scores = []\n",
    "\n",
    "import re\n",
    "pattern = re.compile('\\d+')\n",
    "\n",
    "for line in f:\n",
    "    data = line.split(',')\n",
    "    score_write = int(pattern.search(data[-1])[0])\n",
    "    lunch = data[3]\n",
    "\n",
    "    # print(score_write, lunch)\n",
    "\n",
    "    if 'free' in lunch:\n",
    "        write_scores.append(score_write)\n",
    "        # print(score_write, lunch)\n",
    "\n",
    "f.close()\n",
    "sum(write_scores)/len(write_scores)"
   ]
  }
 ],
 "metadata": {
  "language_info": {
   "codemirror_mode": {
    "name": "ipython",
    "version": 3
   },
   "file_extension": ".py",
   "mimetype": "text/x-python",
   "name": "python",
   "nbconvert_exporter": "python",
   "pygments_lexer": "ipython3",
   "version": "3.7.7-final"
  },
  "orig_nbformat": 2,
  "kernelspec": {
   "name": "python37764bitvenvvenv809d4ff9b9974e56b5c862f34959df57",
   "display_name": "Python 3.7.7 64-bit ('.venv': venv)"
  }
 },
 "nbformat": 4,
 "nbformat_minor": 2
}