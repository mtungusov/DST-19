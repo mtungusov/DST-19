{
 "cells": [
  {
   "cell_type": "markdown",
   "metadata": {},
   "source": [
    "# Python-4\n",
    "#### 2020-05-21"
   ]
  },
  {
   "cell_type": "markdown",
   "metadata": {},
   "source": [
    "## 4.3"
   ]
  },
  {
   "cell_type": "code",
   "execution_count": 4,
   "metadata": {},
   "outputs": [
    {
     "output_type": "stream",
     "name": "stdout",
     "text": "115\n"
    }
   ],
   "source": [
    "# Дополните аргументы и код функции\n",
    "def sum_2(x, y):\n",
    "    result = x + y\n",
    "    return result\n",
    "\n",
    "# Передайте аргументы 42 и 73 в функцию\n",
    "print(sum_2(42, 73))"
   ]
  },
  {
   "cell_type": "code",
   "execution_count": 5,
   "metadata": {},
   "outputs": [
    {
     "output_type": "execute_result",
     "data": {
      "text/plain": "8"
     },
     "metadata": {},
     "execution_count": 5
    }
   ],
   "source": [
    "def power(x, y):\n",
    "    return x ** y\n",
    "\n",
    "power(2,3)"
   ]
  },
  {
   "cell_type": "markdown",
   "metadata": {},
   "source": [
    "## 4.4"
   ]
  },
  {
   "cell_type": "code",
   "execution_count": 55,
   "metadata": {},
   "outputs": [
    {
     "output_type": "execute_result",
     "data": {
      "text/plain": "3.5"
     },
     "metadata": {},
     "execution_count": 55
    }
   ],
   "source": [
    "t = [5, 2, 1, 3, 4]\n",
    "t2 = [10, 16, 22, 23, 24]\n",
    "t3 = [3,3,7,9]\n",
    "t4 = [5, 2, 1, 3, 6, 4]\n",
    "\n",
    "\n",
    "\n",
    "def get_median(list):\n",
    "    list_sorted = sorted(list)\n",
    "    list_len = len(list_sorted)\n",
    "    mid = list_len // 2\n",
    "\n",
    "    if list_len % 2 != 0:\n",
    "        return list_sorted[mid]\n",
    "    else:\n",
    "        return (list_sorted[mid - 1] + list_sorted[mid]) / 2\n",
    "\n",
    "get_median(t4)        \n"
   ]
  },
  {
   "cell_type": "markdown",
   "metadata": {},
   "source": [
    "## 4.5"
   ]
  },
  {
   "cell_type": "code",
   "execution_count": 5,
   "metadata": {},
   "outputs": [
    {
     "output_type": "stream",
     "name": "stdout",
     "text": "29.0\n"
    }
   ],
   "source": [
    "user_db = [{'orders': 12}, {'orders': 30}, {'orders': 45}]\n",
    "\n",
    "# перепишите эту часть\n",
    "def avg_orders(user_db):\n",
    "    order_values = [user['orders'] for user in user_db]\n",
    "    return sum(order_values)/len(order_values)\n",
    "\n",
    "print(avg_orders(user_db))\n",
    "\n",
    "# order_sum = sum([user['orders'] for user in user_db])\n",
    "# orders_per_user = order_sum/len(user_db)\n",
    "# print(orders_per_user)\n",
    "\n"
   ]
  },
  {
   "cell_type": "code",
   "execution_count": 30,
   "metadata": {},
   "outputs": [
    {
     "output_type": "execute_result",
     "data": {
      "text/plain": "82.88397648130712"
     },
     "metadata": {},
     "execution_count": 30
    }
   ],
   "source": [
    "# добавьте функцию get_euro_rate\n",
    "import random\n",
    "\n",
    "def get_euro_rate():\n",
    "    return random.uniform(65, 85)\n",
    "\n",
    "\n",
    "# используйте get_euro_rate в следующей функции\n",
    "def to_euro(price):  \n",
    "    exchange_rate = get_euro_rate()\n",
    "    rounded = round(price/exchange_rate, 2)  \n",
    "    return '€' + str(rounded)\n",
    "\n",
    "get_euro_rate()"
   ]
  },
  {
   "cell_type": "markdown",
   "metadata": {},
   "source": [
    "## 4.7"
   ]
  },
  {
   "cell_type": "code",
   "execution_count": 32,
   "metadata": {},
   "outputs": [
    {
     "output_type": "execute_result",
     "data": {
      "text/plain": "10"
     },
     "metadata": {},
     "execution_count": 32
    }
   ],
   "source": [
    "sum(range(5))"
   ]
  },
  {
   "cell_type": "markdown",
   "metadata": {},
   "source": [
    "## 4.10"
   ]
  },
  {
   "cell_type": "markdown",
   "metadata": {},
   "source": [
    "### 4.10.2"
   ]
  },
  {
   "cell_type": "code",
   "execution_count": 36,
   "metadata": {},
   "outputs": [],
   "source": [
    "values = [4, 8, 15, 16, 23, 42]\n",
    "mean = 18\n",
    "\n",
    "result = list(map(lambda x: x - mean, values))"
   ]
  },
  {
   "cell_type": "markdown",
   "metadata": {},
   "source": [
    "## 4.11"
   ]
  },
  {
   "cell_type": "code",
   "execution_count": 38,
   "metadata": {},
   "outputs": [
    {
     "output_type": "execute_result",
     "data": {
      "text/plain": "[23, 42]"
     },
     "metadata": {},
     "execution_count": 38
    }
   ],
   "source": [
    "values = [4, 8, 15, 16, 23, 42]\n",
    "mean = 18\n",
    "\n",
    "result = list(filter(lambda x: x > mean, values))"
   ]
  },
  {
   "cell_type": "code",
   "execution_count": 1,
   "metadata": {},
   "outputs": [
    {
     "output_type": "execute_result",
     "data": {
      "text/plain": "0.5"
     },
     "metadata": {},
     "execution_count": 1
    }
   ],
   "source": [
    "21/42"
   ]
  },
  {
   "cell_type": "code",
   "execution_count": 8,
   "metadata": {},
   "outputs": [
    {
     "output_type": "execute_result",
     "data": {
      "text/plain": "tuple"
     },
     "metadata": {},
     "execution_count": 8
    }
   ],
   "source": [
    "target = (128, 256)\n",
    "type(target)"
   ]
  },
  {
   "cell_type": "markdown",
   "metadata": {},
   "source": [
    "## 4.18"
   ]
  },
  {
   "cell_type": "code",
   "execution_count": 19,
   "metadata": {},
   "outputs": [
    {
     "output_type": "execute_result",
     "data": {
      "text/plain": "[-5, 5]"
     },
     "metadata": {},
     "execution_count": 19
    }
   ],
   "source": [
    "def normalize(numbers, mean=0, std=1):\n",
    "    return [int((num - mean) / std) for num in numbers]\n",
    "\n",
    "normalize([10, 20], mean=15)\n",
    "# normalize([10, 20], std=2)"
   ]
  },
  {
   "cell_type": "markdown",
   "metadata": {},
   "source": [
    "## 4.19"
   ]
  },
  {
   "cell_type": "code",
   "execution_count": 8,
   "metadata": {},
   "outputs": [
    {
     "output_type": "execute_result",
     "data": {
      "text/plain": "tuple"
     },
     "metadata": {},
     "execution_count": 8
    }
   ],
   "source": [
    "def sum_args(*args):\n",
    "    # return sum(args)\n",
    "    return type(args)\n",
    "\n",
    "sum_args(1,2,3,4)\n",
    "sum_args(1)\n",
    "sum_args()"
   ]
  },
  {
   "cell_type": "code",
   "execution_count": 15,
   "metadata": {},
   "outputs": [
    {
     "output_type": "stream",
     "name": "stdout",
     "text": "verbose mode\n"
    },
    {
     "output_type": "execute_result",
     "data": {
      "text/plain": "'verbose mode'"
     },
     "metadata": {},
     "execution_count": 15
    }
   ],
   "source": [
    "def show_keys(**kwargs):\n",
    "    print(' '.join(kwargs.keys()))\n",
    "\n",
    "show_keys(verbose=True, mode='constant')\n",
    "' '.join(('verbose', 'mode'))"
   ]
  },
  {
   "cell_type": "markdown",
   "metadata": {},
   "source": [
    "## 4.23"
   ]
  },
  {
   "cell_type": "code",
   "execution_count": 34,
   "metadata": {},
   "outputs": [
    {
     "output_type": "execute_result",
     "data": {
      "text/plain": "3.4285714285714284"
     },
     "metadata": {},
     "execution_count": 34
    }
   ],
   "source": [
    "def count_letters(sentence, average=False):\n",
    "    words = [word for word in sentence.split(' ') if len(word) > 0]\n",
    "    word_lengths = [len(word) for word in words]\n",
    "    if average:\n",
    "        return (sum(word_lengths)/len(word_lengths))\n",
    "\n",
    "    return sum(word_lengths)\n",
    "\n",
    "count_letters(\"Beep boop\")\n",
    "count_letters(\"Beep boop\", average=True)\n",
    "count_letters(\"I will build my own theme park\")\n",
    "count_letters(\"I will build my own theme park\", average=True)"
   ]
  },
  {
   "cell_type": "code",
   "execution_count": 35,
   "metadata": {},
   "outputs": [
    {
     "output_type": "execute_result",
     "data": {
      "text/plain": "'a'"
     },
     "metadata": {},
     "execution_count": 35
    }
   ],
   "source": [
    "words = [\"sofa\", \"suitcase\", \"valise\", \"picture\", \"basket\", \"carton\", \"doggie\"]\n",
    "list(map(lambda w: sorted(w)[0], words))[5]"
   ]
  },
  {
   "cell_type": "code",
   "execution_count": 41,
   "metadata": {},
   "outputs": [
    {
     "output_type": "execute_result",
     "data": {
      "text/plain": "5"
     },
     "metadata": {},
     "execution_count": 41
    }
   ],
   "source": [
    "def always(n):\n",
    "    return lambda: n\n",
    "\n",
    "five = always(5)\n",
    "five()\n",
    "\n",
    "always(5)()"
   ]
  }
 ],
 "metadata": {
  "language_info": {
   "codemirror_mode": {
    "name": "ipython",
    "version": 3
   },
   "file_extension": ".py",
   "mimetype": "text/x-python",
   "name": "python",
   "nbconvert_exporter": "python",
   "pygments_lexer": "ipython3",
   "version": "3.7.7-final"
  },
  "orig_nbformat": 2,
  "kernelspec": {
   "name": "python37764bitvenvvenv809d4ff9b9974e56b5c862f34959df57",
   "display_name": "Python 3.7.7 64-bit ('.venv': venv)"
  }
 },
 "nbformat": 4,
 "nbformat_minor": 2
}