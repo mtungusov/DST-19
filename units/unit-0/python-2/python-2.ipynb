{
 "cells": [
  {
   "cell_type": "markdown",
   "metadata": {},
   "source": [
    "# DST-19 PYTHON-2"
   ]
  },
  {
   "cell_type": "markdown",
   "metadata": {},
   "source": [
    "## 2020-05-06"
   ]
  },
  {
   "cell_type": "code",
   "execution_count": 19,
   "metadata": {},
   "outputs": [
    {
     "output_type": "stream",
     "name": "stdout",
     "text": "14\n0 Александр\n5 Максим\n3 Диана\n13 Галина\n8 Серафим\n14 Вячеслав\n10 Павел\n"
    }
   ],
   "source": [
    "OurBestStudents = ['Александр', 'Константин', 'Мария', 'Диана', 'Алексей', \n",
    "                   'Максим', 'Светлана', 'Арина', 'Серафим', 'Doomer', \n",
    "                   'Павел', 'Виктория', 'Елена', 'Галина', 'Вячеслав']\n",
    "print(len(OurBestStudents)-1)\n",
    "print(0, OurBestStudents[0])\n",
    "print(5, OurBestStudents[5])\n",
    "print(3, OurBestStudents[3])\n",
    "print(13, OurBestStudents[13])\n",
    "print(8, OurBestStudents[8])\n",
    "print(14, OurBestStudents[14])\n",
    "print(10, OurBestStudents[10])"
   ]
  },
  {
   "cell_type": "code",
   "execution_count": 36,
   "metadata": {},
   "outputs": [
    {
     "output_type": "execute_result",
     "data": {
      "text/plain": "['руки', 'ноги']"
     },
     "metadata": {},
     "execution_count": 36
    }
   ],
   "source": [
    "body = ['голова', 'руки', 'ноги', 'глаза', 'уши', 'рот', 'нос', 'туловище']\n",
    "\n",
    "body[-7:-5]"
   ]
  },
  {
   "cell_type": "code",
   "execution_count": 42,
   "metadata": {},
   "outputs": [
    {
     "output_type": "execute_result",
     "data": {
      "text/plain": "['Трус', 'Роджер', 'Ушастик', 'Эдуард', 'Барсик', 'Мурзик', 'Дружок', 'Пушок']"
     },
     "metadata": {},
     "execution_count": 42
    }
   ],
   "source": [
    "rabbits = ['Пушок', 'Дружок', 'Мурзик', 'Барсик', 'Эдуард', 'Ушастик', 'Роджер', 'Трус']\n",
    "\n",
    "rabbits[-1::-1]"
   ]
  },
  {
   "cell_type": "code",
   "execution_count": 47,
   "metadata": {},
   "outputs": [
    {
     "output_type": "execute_result",
     "data": {
      "text/plain": "['Капустин', 'Козлов', 'Сидоров']"
     },
     "metadata": {},
     "execution_count": 47
    }
   ],
   "source": [
    "sparta = ['Иванов', 'Петров', 'Сидоров', 'Зайцев', 'Дятлов', \n",
    "          'Козлов', 'Лисичкин', 'Огурцов', 'Капустин', 'Арбузов']\n",
    "\n",
    "sparta[::2]\n",
    "\n",
    "sparta[1:-1:3]\n",
    "\n",
    "sparta[0:-1:5]\n",
    "\n",
    "sparta[::-3]\n",
    "\n",
    "sparta[-2:1:-3]"
   ]
  },
  {
   "cell_type": "code",
   "execution_count": 18,
   "metadata": {},
   "outputs": [
    {
     "output_type": "stream",
     "name": "stdout",
     "text": "[1024, 512, 256, 128, 64, 32, 16, 8, 4, 2, 1]\n"
    }
   ],
   "source": [
    "my_list = [1]\n",
    "for i in range(10):\n",
    "    my_list.append(my_list[i] * 2)\n",
    "my_list.sort(reverse = True)\n",
    "print(my_list)"
   ]
  },
  {
   "cell_type": "code",
   "execution_count": 19,
   "metadata": {},
   "outputs": [
    {
     "output_type": "execute_result",
     "data": {
      "text/plain": "[3, 6, 9, 12, 15, 18, 21, 24, 27, 30, 33, 36, 39, 42, 45, 48]"
     },
     "metadata": {},
     "execution_count": 19
    }
   ],
   "source": [
    "[x for x in range(1,51) if x%3 == 0]"
   ]
  },
  {
   "cell_type": "code",
   "execution_count": 22,
   "metadata": {},
   "outputs": [
    {
     "output_type": "execute_result",
     "data": {
      "text/plain": "15"
     },
     "metadata": {},
     "execution_count": 22
    }
   ],
   "source": [
    "raw_list = ['переменные', 'циклы', 'условия', 'списки', 'словари', 'файлы', 'функции']\n",
    "my_list = [len(x) for x in raw_list]\n",
    "sum([min(my_list), max(my_list)])"
   ]
  },
  {
   "cell_type": "code",
   "execution_count": 33,
   "metadata": {},
   "outputs": [
    {
     "output_type": "execute_result",
     "data": {
      "text/plain": "5041"
     },
     "metadata": {},
     "execution_count": 33
    }
   ],
   "source": [
    "raw_list = [2, 8, 10, 23, 64, 49, 11, 52, 71, 14]\n",
    "x_min = min(raw_list)\n",
    "x_max = max(raw_list)\n",
    "\n",
    "my_list = list(map(lambda x: x * x_min if x%2==0 else x * x_max, raw_list))\n",
    "max(my_list)"
   ]
  },
  {
   "cell_type": "code",
   "execution_count": 47,
   "metadata": {},
   "outputs": [
    {
     "output_type": "execute_result",
     "data": {
      "text/plain": "['а', 'з', 'и', 'н', 'н', 'о', 'о', 'о', 'р', 'р', 'с', 'т', 'ф', 'х']"
     },
     "metadata": {},
     "execution_count": 47
    }
   ],
   "source": [
    "sorted([x for x in 'синхрофазотрон'])"
   ]
  },
  {
   "cell_type": "code",
   "execution_count": 49,
   "metadata": {},
   "outputs": [
    {
     "output_type": "execute_result",
     "data": {
      "text/plain": "[2.6457513110645907,\n 3.7416573867739413,\n 4.58257569495584,\n 5.291502622129181,\n 5.916079783099616,\n 6.48074069840786,\n 7.0]"
     },
     "metadata": {},
     "execution_count": 49
    }
   ],
   "source": [
    "[x ** 0.5 for x in range(1, 50) if x%7 == 0]"
   ]
  },
  {
   "cell_type": "code",
   "execution_count": 55,
   "metadata": {},
   "outputs": [
    {
     "output_type": "execute_result",
     "data": {
      "text/plain": "[9, 10, 11, 12, 13, 14, 15, 16, 17, 18]"
     },
     "metadata": {},
     "execution_count": 55
    }
   ],
   "source": [
    "[x//10 + x%10 for x in range(90, 100)]"
   ]
  },
  {
   "cell_type": "code",
   "execution_count": 1,
   "metadata": {},
   "outputs": [],
   "source": [
    "phones = [['+79033923029', 'Мария Никитина'], ['+78125849204', 'Егор Савичев'], ['+79053049385', 'Александр Пахомов'], ['+79265748370', 'Алина Егорова'], ['+79030598495', 'Руслан Башаров']]\n",
    "\n",
    "employee_base = {\n",
    "    'Мария Никитина': '+79033923029'\n",
    "    , 'Егор Савичев': '+78125849204'\n",
    "    , 'Александр Пахомов': '+79053049385'\n",
    "    , 'Алина Егорова': '+79265748370'\n",
    "    , 'Руслан Башаров': '+79030598495'\n",
    "}"
   ]
  },
  {
   "cell_type": "code",
   "execution_count": 5,
   "metadata": {},
   "outputs": [
    {
     "output_type": "execute_result",
     "data": {
      "text/plain": "'unknown'"
     },
     "metadata": {},
     "execution_count": 5
    }
   ],
   "source": [
    "draw_dict = {\n",
    "\t'Россия': 'A',\n",
    "\t'Португалия': 'B',\n",
    "\t'Франция': 'C',\n",
    "\t'Дания': 'C',\n",
    "\t'Египет': 'A'\n",
    "}\n",
    "\n",
    "country = 'Италия'\n",
    "# group = draw_dict[country] if country in draw_dict else 'unknown'\n",
    "draw_dict.setdefault(country, 'unknown')\n",
    "group = draw_dict[country]\n",
    "group"
   ]
  },
  {
   "cell_type": "code",
   "execution_count": 9,
   "metadata": {},
   "outputs": [
    {
     "output_type": "execute_result",
     "data": {
      "text/plain": "{'Россия': 'A', 'Египет': 'A'}"
     },
     "metadata": {},
     "execution_count": 9
    }
   ],
   "source": [
    "draw_dict = {\n",
    "\t'Россия': 'A',\n",
    "\t'Португалия': 'B',\n",
    "\t'Франция': 'C',\n",
    "\t'Дания': 'C',\n",
    "\t'Египет': 'A'\n",
    "}\n",
    "\n",
    "draw_new = {}\n",
    "for c in draw_dict:\n",
    "    if draw_dict[c] == 'A': draw_new[c] = draw_dict[c]\n",
    "draw_new"
   ]
  },
  {
   "cell_type": "code",
   "execution_count": 18,
   "metadata": {},
   "outputs": [
    {
     "output_type": "execute_result",
     "data": {
      "text/plain": "{'Россия': 'A', 'Египет': 'A'}"
     },
     "metadata": {},
     "execution_count": 18
    }
   ],
   "source": [
    "draw_dict = {\n",
    "\t'Россия': 'A',\n",
    "\t'Португалия': 'B',\n",
    "\t'Франция': 'C',\n",
    "\t'Дания': 'C',\n",
    "\t'Египет': 'A'\n",
    "}\n",
    "\n",
    "# draw_new = {}\n",
    "# for c, g in draw_dict.items():\n",
    "#     if g == 'A': draw_new[c] = g\n",
    "\n",
    "draw_new = {c:g for (c, g) in draw_dict.items() if g == 'A'}\n",
    "\n",
    "draw_new"
   ]
  },
  {
   "cell_type": "code",
   "execution_count": 11,
   "metadata": {},
   "outputs": [
    {
     "output_type": "execute_result",
     "data": {
      "text/plain": "13841"
     },
     "metadata": {},
     "execution_count": 11
    }
   ],
   "source": [
    "credits = {\n",
    "    '2019-04-01': 2504\n",
    "    , '2019-04-02': 4994\n",
    "    , '2019-04-03': 6343 \n",
    "}\n",
    "\n",
    "sum(credits.values())"
   ]
  },
  {
   "cell_type": "code",
   "execution_count": 4,
   "metadata": {},
   "outputs": [
    {
     "output_type": "execute_result",
     "data": {
      "text/plain": "'100934'"
     },
     "metadata": {},
     "execution_count": 4
    }
   ],
   "source": [
    "csv_file = [\n",
    "    ['100412', 'Ботинки для горных лыж ATOMIC Hawx Prime 100', 9],\n",
    "    ['100728', 'Скейтборд Jdbug RT03', 32],\n",
    "    ['100732', 'Роллерсерф Razor RipStik Bright', 11],\n",
    "    ['100803', 'Ботинки для сноуборда DC Tucknee', 20],\n",
    "    ['100898', 'Шагомер Omron HJA-306', 2],\n",
    "    ['100934', 'Пульсометр Beurer PM62', 17],\n",
    "]\n",
    "\n",
    "pulsometer_id = csv_file[-1][0]\n",
    "pulsometer_id"
   ]
  },
  {
   "cell_type": "code",
   "execution_count": 5,
   "metadata": {},
   "outputs": [
    {
     "output_type": "execute_result",
     "data": {
      "text/plain": "[['100728', 'Скейтборд Jdbug RT03', 32],\n ['100732', 'Роллерсерф Razor RipStik Bright', 11],\n ['100803', 'Ботинки для сноуборда DC Tucknee', 20],\n ['100934', 'Пульсометр Beurer PM62', 17]]"
     },
     "metadata": {},
     "execution_count": 5
    }
   ],
   "source": [
    "csv_file = [\n",
    "    ['100412', 'Ботинки для горных лыж ATOMIC Hawx Prime 100', 9],\n",
    "    ['100728', 'Скейтборд Jdbug RT03', 32],\n",
    "    ['100732', 'Роллерсерф Razor RipStik Bright', 11],\n",
    "    ['100803', 'Ботинки для сноуборда DC Tucknee', 20],\n",
    "    ['100898', 'Шагомер Omron HJA-306', 2],\n",
    "    ['100934', 'Пульсометр Beurer PM62', 17],\n",
    "]\n",
    "\n",
    "csv_file_filtered = [line for line in csv_file if line[-1] > 10]"
   ]
  },
  {
   "cell_type": "code",
   "execution_count": 9,
   "metadata": {},
   "outputs": [
    {
     "output_type": "execute_result",
     "data": {
      "text/plain": "[{'id': '100412',\n  'position': 'Ботинки для горных лыж ATOMIC Hawx Prime 100',\n  'count': 9},\n {'id': '100803', 'position': 'Ботинки для сноуборда DC Tucknee', 'count': 20}]"
     },
     "metadata": {},
     "execution_count": 9
    }
   ],
   "source": [
    "csv_dict = [\n",
    "    {'id': '100412', 'position': 'Ботинки для горных лыж ATOMIC Hawx Prime 100', 'count': 9},\n",
    "    {'id': '100728', 'position': 'Скейтборд Jdbug RT03', 'count': 32},\n",
    "    {'id': '100732', 'position': 'Роллерсерф Razor RipStik Bright', 'count': 11},\n",
    "    {'id': '100803', 'position': 'Ботинки для сноуборда DC Tucknee', 'count': 20},\n",
    "    {'id': '100898', 'position': 'Шагомер Omron HJA-306', 'count': 2},\n",
    "    {'id': '100934', 'position': 'Пульсометр Beurer PM62', 'count': 17},\n",
    "]\n",
    "\n",
    "\n",
    "csv_dict_boots = [line for line in csv_dict if 'Ботинки' in line['position']]"
   ]
  },
  {
   "cell_type": "code",
   "execution_count": 11,
   "metadata": {},
   "outputs": [
    {
     "output_type": "execute_result",
     "data": {
      "text/plain": "98"
     },
     "metadata": {},
     "execution_count": 11
    }
   ],
   "source": [
    "results = [\n",
    "\t{'cost': 98, 'source': 'vk'},\n",
    "\t{'cost': 153, 'source': 'yandex'},\n",
    "\t{'cost': 110, 'source': 'facebook'},\n",
    "]\n",
    "\n",
    "min([line['cost'] for line in results])"
   ]
  },
  {
   "cell_type": "code",
   "execution_count": 13,
   "metadata": {},
   "outputs": [
    {
     "output_type": "stream",
     "name": "stdout",
     "text": "5\n"
    }
   ],
   "source": [
    "defect_stats = [\n",
    "\t{'step number': 1, 'damage': 0.98},\n",
    "\t{'step number': 2, 'damage': 0.99},\n",
    "\t{'step number': 3, 'damage': 0.99},\n",
    "\t{'step number': 4, 'damage': 0.96},\n",
    "\t{'step number': 5, 'damage': 0.97},\n",
    "\t{'step number': 6, 'damage': 0.97},\n",
    "]\n",
    "\n",
    "size = 100\n",
    "for stat in defect_stats:\n",
    "    size *= stat['damage']\n",
    "    if size < 90:\n",
    "        print(stat['step number'])\n",
    "        break\n"
   ]
  },
  {
   "cell_type": "code",
   "execution_count": 18,
   "metadata": {},
   "outputs": [
    {
     "output_type": "stream",
     "name": "stdout",
     "text": "AMD 0.13121\n"
    }
   ],
   "source": [
    "currency = {\n",
    "\t'AMD': {\n",
    "\t\t'Name': 'Армянских драмов',\n",
    "\t\t'Nominal': 100,\n",
    "\t\t'Value': 13.121\n",
    "\t},\n",
    "\n",
    "\t'AUD': {\n",
    "\t\t'Name': 'Австралийский доллар',\n",
    "\t\t'Nominal': 1,\n",
    "\t\t'Value': 45.5309\n",
    "\t},\n",
    "\n",
    "\t'INR': {\n",
    "\t\t'Name': 'Индийских рупий',\n",
    "\t\t'Nominal': 100,\n",
    "\t\t'Value': 92.9658\n",
    "\t},\n",
    "\n",
    "\t'MDL': {\n",
    "\t\t'Name': 'Молдавских леев',\n",
    "\t\t'Nominal': 10,\n",
    "\t\t'Value': 36.9305\n",
    "\t},\n",
    "}\n",
    "\n",
    "cur_min, cur_rate_min = '', 1\n",
    "for cur in currency.keys():\n",
    "    rate = currency[cur]['Value'] / currency[cur]['Nominal']\n",
    "    if rate < cur_rate_min:\n",
    "        cur_min, cur_rate_min = cur, rate \n",
    "print(cur_min, cur_rate_min)"
   ]
  },
  {
   "cell_type": "code",
   "execution_count": 36,
   "metadata": {},
   "outputs": [
    {
     "output_type": "execute_result",
     "data": {
      "text/plain": "225"
     },
     "metadata": {},
     "execution_count": 36
    }
   ],
   "source": [
    "bodycount = {\n",
    "\t'Проклятие Черной жемчужины': {\n",
    "\t\t'человек': 17\n",
    "\t}, \n",
    "\n",
    "\t'Сундук мертвеца': {\n",
    "\t\t'человек': 56,\n",
    "\t\t'раков-отшельников': 1\n",
    "\t},\n",
    "\n",
    "\t'На краю света': {\n",
    "\t\t'человек': 88\n",
    "\t},\n",
    "\n",
    "\t'На странных берегах': {\n",
    "\t\t'человек': 56,\n",
    "\t\t'русалок': 2,\n",
    "\t\t'ядовитых жаб': 3,\n",
    "\t\t'пиратов зомби': 2\n",
    "\t}\n",
    "}\n",
    "\n",
    "my_counts = 0\n",
    "for movie_stat in bodycount.values():\n",
    "    my_counts += sum(movie_stat.values())\n",
    "\n",
    "my_counts\n"
   ]
  },
  {
   "cell_type": "markdown",
   "metadata": {},
   "source": [
    "## 2020-05-13"
   ]
  },
  {
   "cell_type": "code",
   "execution_count": 17,
   "metadata": {},
   "outputs": [
    {
     "output_type": "execute_result",
     "data": {
      "text/plain": "Counter({'page': 74, 'datepicker': 15, 'table': 10, 'report': 8})"
     },
     "metadata": {},
     "execution_count": 17
    }
   ],
   "source": [
    "import json\n",
    "with open(\"data.json\", \"rb\") as infile:\n",
    "    data = json.load(infile)\n",
    "\n",
    "data.keys()\n",
    "\n",
    "len(data[\"events_data\"])\n",
    "data['events_data'][0]\n",
    "\n",
    "import collections\n",
    "c = collections.Counter()\n",
    "for cat in [item['category'] for item in data['events_data']]:\n",
    "    c[cat] += 1\n",
    "\n",
    "c\n",
    "# dir(c)"
   ]
  },
  {
   "cell_type": "code",
   "execution_count": 46,
   "metadata": {},
   "outputs": [
    {
     "output_type": "execute_result",
     "data": {
      "text/plain": "[58113, 60459, 62602]"
     },
     "metadata": {},
     "execution_count": 46
    }
   ],
   "source": [
    "import json\n",
    "\n",
    "with open('data.json', 'rb') as infile:\n",
    "    data = json.load(infile)\n",
    "    \n",
    "data_list = data['events_data']\n",
    "# data_list\n",
    "\n",
    "# [item['client_id'] for item in data_list if item['category'] == 'table']\n",
    "\n",
    "import collections\n",
    "\n",
    "# c = collections.Counter()\n",
    "# for client in [item['client_id'] for item in data_list if item['category'] == 'table']:\n",
    "#     c[client] += 1\n",
    "# c\n",
    "\n",
    "# 2.27\n",
    "\n",
    "c = collections.Counter()\n",
    "for client in [item['client_id'] for item in data_list]:\n",
    "    c[client] += 1\n",
    "\n",
    "# len(c.keys())\n",
    "\n",
    "# c[60459]\n",
    "\n",
    "# c2 = collections.Counter()\n",
    "# for client in [item['client_id'] for item in data_list if item['category'] == 'page']:\n",
    "#     c2[client] += 1\n",
    "\n",
    "# c2[62602]\n",
    "\n",
    "c3 = collections.Counter()\n",
    "for client in [item['client_id'] for item in data_list if item['category'] == 'report']:\n",
    "    c3[client] += 1\n",
    "\n",
    "# len(c3.keys())\n",
    "\n",
    "sorted(c3.keys())"
   ]
  }
 ],
 "metadata": {
  "language_info": {
   "codemirror_mode": {
    "name": "ipython",
    "version": 3
   },
   "file_extension": ".py",
   "mimetype": "text/x-python",
   "name": "python",
   "nbconvert_exporter": "python",
   "pygments_lexer": "ipython3",
   "version": "3.7.7-final"
  },
  "orig_nbformat": 2,
  "kernelspec": {
   "name": "python37764bitvenvvenv5778429c06fd4f05bc5380706f52e9b3",
   "display_name": "Python 3.7.7 64-bit ('.venv': venv)"
  }
 },
 "nbformat": 4,
 "nbformat_minor": 2
}