{
 "cells": [
  {
   "cell_type": "code",
   "execution_count": 18,
   "outputs": [
    {
     "name": "stdout",
     "output_type": "stream",
     "text": [
      "1\n"
     ]
    },
    {
     "data": {
      "text/plain": "2.2"
     },
     "execution_count": 18,
     "metadata": {},
     "output_type": "execute_result"
    }
   ],
   "source": [
    "word = input()\n",
    "print(len(word))\n"
   ],
   "metadata": {
    "collapsed": false,
    "pycharm": {
     "name": "#%%\n"
    }
   }
  },
  {
   "cell_type": "code",
   "execution_count": 2,
   "outputs": [
    {
     "name": "stdout",
     "output_type": "stream",
     "text": [
      "Вы ввели число, которое при умножении на 3 даёт 3\n"
     ]
    }
   ],
   "source": [
    "a = int(input())\n",
    "print('Вы ввели число, которое при умножении на 3 даёт', 3*a)"
   ],
   "metadata": {
    "collapsed": false,
    "pycharm": {
     "name": "#%%\n"
    }
   }
  },
  {
   "cell_type": "code",
   "execution_count": 5,
   "outputs": [
    {
     "name": "stdout",
     "output_type": "stream",
     "text": [
      "ОченьДлинноеСлово\n"
     ]
    }
   ],
   "source": [
    "word = 'ОченьДлинноеСлово'\n",
    "if len(word) < 7:\n",
    "    print('Это слово короткое.')\n",
    "else:\n",
    "    print('ОченьДлинноеСлово')"
   ],
   "metadata": {
    "collapsed": false,
    "pycharm": {
     "name": "#%%\n"
    }
   }
  },
  {
   "cell_type": "code",
   "execution_count": 9,
   "outputs": [
    {
     "name": "stdout",
     "output_type": "stream",
     "text": [
      "Эх, это не очень редкое слово...\n"
     ]
    }
   ],
   "source": [
    "word = 'ОченьДлинноеСлово'\n",
    "if 'ф' in word:\n",
    "    print('Ого! Вы ввели редкое слово!')\n",
    "else:\n",
    "    print('Эх, это не очень редкое слово...')\n"
   ],
   "metadata": {
    "collapsed": false,
    "pycharm": {
     "name": "#%%\n"
    }
   }
  },
  {
   "cell_type": "code",
   "execution_count": 35,
   "outputs": [
    {
     "name": "stdout",
     "output_type": "stream",
     "text": [
      "понедельник\n"
     ]
    }
   ],
   "source": [
    "number = int(input())\n",
    "if number == 1:\n",
    "    print('понедельник')\n",
    "elif number == 2:\n",
    "    print('вторник')\n",
    "elif number == 3:\n",
    "    print('среда')\n",
    "elif number == 4:\n",
    "    print('четверг')\n",
    "elif number == 5:\n",
    "    print('пятница')\n",
    "elif number == 6:\n",
    "    print('суббота')\n",
    "else:\n",
    "    print('воскресенье')"
   ],
   "metadata": {
    "collapsed": false,
    "pycharm": {
     "name": "#%%\n"
    }
   }
  },
  {
   "cell_type": "code",
   "execution_count": 49,
   "outputs": [
    {
     "name": "stdout",
     "output_type": "stream",
     "text": [
      "Недостаточная масса тела\n"
     ]
    }
   ],
   "source": [
    "weight = float(input())\n",
    "height = float(input())\n",
    "\n",
    "imt = weight/height**2\n",
    "if imt < 18.5:\n",
    "    print('Недостаточная масса тела')\n",
    "elif imt > 24.99:\n",
    "    print('Избыточная масса тела')\n",
    "else:\n",
    "    print('Норма')"
   ],
   "metadata": {
    "collapsed": false,
    "pycharm": {
     "name": "#%%\n"
    }
   }
  },
  {
   "cell_type": "code",
   "execution_count": 57,
   "outputs": [
    {
     "name": "stdout",
     "output_type": "stream",
     "text": [
      "хорошо\n"
     ]
    }
   ],
   "source": [
    "mark = 6\n",
    "if mark < 4:\n",
    "    print('неудовлетворительно')\n",
    "elif mark <= 5:\n",
    "    print('удовлетворительно')\n",
    "elif mark <= 7:\n",
    "    print('хорошо')\n",
    "else:\n",
    "    print('отлично')"
   ],
   "metadata": {
    "collapsed": false,
    "pycharm": {
     "name": "#%%\n"
    }
   }
  },
  {
   "cell_type": "code",
   "execution_count": 63,
   "outputs": [
    {
     "name": "stdout",
     "output_type": "stream",
     "text": [
      "Сегодня твой выбор - ресторан!\n"
     ]
    }
   ],
   "source": [
    "balance = 5001\n",
    "\n",
    "if balance > 5000:\n",
    "    print('Сегодня твой выбор - ресторан!')\n",
    "elif balance > 2500:\n",
    "    print('Эх, только фастфуд.')\n",
    "else:\n",
    "    print('Придётся потерпеть!')"
   ],
   "metadata": {
    "collapsed": false,
    "pycharm": {
     "name": "#%%\n"
    }
   }
  },
  {
   "cell_type": "code",
   "execution_count": 70,
   "outputs": [
    {
     "name": "stdout",
     "output_type": "stream",
     "text": [
      "Число делится на 2 без остатка.\n"
     ]
    }
   ],
   "source": [
    "number = 452\n",
    "\n",
    "if number%2 == 0:\n",
    "    print('Число делится на 2 без остатка.')\n",
    "elif number%3 == 0:\n",
    "    print('Число делится на 3 без остатка.')\n",
    "elif number%5 == 0:\n",
    "    print('Число делится на 5 без остатка.')\n",
    "else:\n",
    "    print('Число не делится ни на 2, ни на 3, ни на 5 без остатка!')\n"
   ],
   "metadata": {
    "collapsed": false,
    "pycharm": {
     "name": "#%%\n"
    }
   }
  },
  {
   "cell_type": "code",
   "execution_count": 79,
   "outputs": [
    {
     "name": "stdout",
     "output_type": "stream",
     "text": [
      "Аня не фанат таких цветов\n"
     ]
    }
   ],
   "source": [
    "flower = 'тюльпан'\n",
    "color = 'белый'\n",
    "\n",
    "if color == 'синий' or color == 'белый' and flower == 'роза':\n",
    "    print('Ане понравятся эти цветы')\n",
    "else:\n",
    "    print('Аня не фанат таких цветов')"
   ],
   "metadata": {
    "collapsed": false,
    "pycharm": {
     "name": "#%%\n"
    }
   }
  },
  {
   "cell_type": "code",
   "execution_count": 81,
   "outputs": [
    {
     "name": "stdout",
     "output_type": "stream",
     "text": [
      "Попробуем поискать ещё...\n"
     ]
    }
   ],
   "source": [
    "height = 180\n",
    "weight = 92\n",
    "color = 'синий'\n",
    "\n",
    "if height > 170 and weight < 80 and color == 'красный':\n",
    "    print('Ваша половинка нашлась!')\n",
    "else:\n",
    "    print('Попробуем поискать ещё...')\n",
    "\n"
   ],
   "metadata": {
    "collapsed": false,
    "pycharm": {
     "name": "#%%\n"
    }
   }
  },
  {
   "cell_type": "code",
   "execution_count": 83,
   "outputs": [
    {
     "name": "stdout",
     "output_type": "stream",
     "text": [
      "Вова, это нужное число\n"
     ]
    }
   ],
   "source": [
    "number = 346\n",
    "\n",
    "if number%2 == 0 or number%5 == 0 or number%173 == 0 or number%821 == 0:\n",
    "    print('Вова, это нужное число')\n",
    "else:\n",
    "    print('Вова, в этот раз ты не попал')"
   ],
   "metadata": {
    "collapsed": false,
    "pycharm": {
     "name": "#%%\n"
    }
   }
  },
  {
   "cell_type": "code",
   "execution_count": 84,
   "outputs": [
    {
     "name": "stdout",
     "output_type": "stream",
     "text": [
      "Python\n"
     ]
    }
   ],
   "source": [
    "fav_word = 'Аппликация'\n",
    "\n",
    "if fav_word == 'плюс' or fav_word == 'плюсы':\n",
    "    print('C++')\n",
    "elif fav_word == 'рубин' or fav_word == 'кристалл':\n",
    "    print('Ruby')\n",
    "else:\n",
    "    print('Python')\n"
   ],
   "metadata": {
    "collapsed": false,
    "pycharm": {
     "name": "#%%\n"
    }
   }
  },
  {
   "cell_type": "code",
   "execution_count": 33,
   "outputs": [
    {
     "name": "stdout",
     "output_type": "stream",
     "text": [
      "Преподаватель занят.\n"
     ]
    }
   ],
   "source": [
    "# hour = 18\n",
    "# minute = 47\n",
    "\n",
    "hour = 18\n",
    "minute = 47\n",
    "\n",
    "if (hour == 10 and 30 <= minute <= 59) or (hour == 12 and minute == 0)\\\n",
    "        or (hour == 13 and 40 <= minute <= 59) or (hour == 15 and minute == 0)\\\n",
    "        or (hour == 19 and 0 <= minute <= 30):\n",
    "    print('Преподаватель занят.')\n",
    "elif hour == 11 or hour == 14 or hour == 18:\n",
    "    print('Преподаватель занят.')\n",
    "elif hour == 10 or hour == 19:\n",
    "    print('Преподаватель свободен.')\n",
    "else:\n",
    "    print('Преподаватель занят.')"
   ],
   "metadata": {
    "collapsed": false,
    "pycharm": {
     "name": "#%%\n"
    }
   }
  },
  {
   "cell_type": "code",
   "execution_count": 38,
   "outputs": [
    {
     "name": "stdout",
     "output_type": "stream",
     "text": [
      "п\n",
      "д\n",
      "и\n",
      "н\n",
      "к\n"
     ]
    }
   ],
   "source": [
    "word = 'подшипник'\n",
    "for idx, c in enumerate(word):\n",
    "    if idx%2 == 0: print(c)"
   ],
   "metadata": {
    "collapsed": false,
    "pycharm": {
     "name": "#%%\n"
    }
   }
  },
  {
   "cell_type": "code",
   "execution_count": 63,
   "outputs": [
    {
     "name": "stdout",
     "output_type": "stream",
     "text": [
      "2013 год невисокосный\n",
      "2014 год невисокосный\n",
      "2015 год невисокосный\n",
      "2016 год високосный\n",
      "2017 год невисокосный\n",
      "2018 год невисокосный\n",
      "2019 год невисокосный\n",
      "2020 год високосный\n"
     ]
    }
   ],
   "source": [
    "year_1 = 2013\n",
    "year_2 = 2020\n",
    "\n",
    "for y in range(year_1, year_2 + 1):\n",
    "    if y%400 == 0 or not (y%100 == 0) and y%4 == 0:\n",
    "        print(y, 'год високосный')\n",
    "    else: print(y, 'год невисокосный')"
   ],
   "metadata": {
    "collapsed": false,
    "pycharm": {
     "name": "#%%\n"
    }
   }
  },
  {
   "cell_type": "code",
   "execution_count": 66,
   "outputs": [
    {
     "name": "stdout",
     "output_type": "stream",
     "text": [
      "и\n",
      "у\n",
      "а\n",
      "и\n",
      "а\n"
     ]
    }
   ],
   "source": [
    "word = 'Зимушка-зима'\n",
    "glas = ['а', 'у', 'о', 'ы', 'и', 'э', 'я', 'ю', 'ё', 'е']\n",
    "\n",
    "for _, c in enumerate(word):\n",
    "    if c in glas: print(c)"
   ],
   "metadata": {
    "collapsed": false,
    "pycharm": {
     "name": "#%%\n"
    }
   }
  },
  {
   "cell_type": "code",
   "execution_count": 70,
   "outputs": [
    {
     "name": "stdout",
     "output_type": "stream",
     "text": [
      "Буква 1 в этом имени - С\n",
      "Буква 2 в этом имени - е\n",
      "Буква 3 в этом имени - р\n",
      "Буква 4 в этом имени - г\n",
      "Буква 5 в этом имени - е\n",
      "Буква 6 в этом имени - й\n"
     ]
    }
   ],
   "source": [
    "name = 'Сергей'\n",
    "\n",
    "for idx, c in enumerate(name):\n",
    "    print('Буква', idx + 1, 'в этом имени -', c)"
   ],
   "metadata": {
    "collapsed": false,
    "pycharm": {
     "name": "#%%\n"
    }
   }
  },
  {
   "cell_type": "code",
   "execution_count": 78,
   "outputs": [
    {
     "name": "stdout",
     "output_type": "stream",
     "text": [
      "25\n",
      "27\n",
      "33\n",
      "35\n",
      "39\n",
      "45\n"
     ]
    }
   ],
   "source": [
    "num_1 = 25\n",
    "num_2 = 45\n",
    "\n",
    "if num_1 < 0 or num_1 > num_2:\n",
    "    print('Введён неверный диапазон чисел')\n",
    "else:\n",
    "    for i in range(num_1, num_2 + 1):\n",
    "        if i%2 != 0 and (i%3 == 0 or i%5 == 0):\n",
    "            print(i)"
   ],
   "metadata": {
    "collapsed": false,
    "pycharm": {
     "name": "#%%\n"
    }
   }
  },
  {
   "cell_type": "code",
   "execution_count": 80,
   "outputs": [
    {
     "name": "stdout",
     "output_type": "stream",
     "text": [
      "1 1 1\n",
      "2 4 8\n",
      "3 9 27\n",
      "4 16 64\n",
      "5 25 125\n",
      "6 36 216\n",
      "7 49 343\n",
      "8 64 512\n",
      "9 81 729\n",
      "10 100 1000\n"
     ]
    }
   ],
   "source": [
    "for i in range(1, 11):\n",
    "    print(i, i**2, i**3)"
   ],
   "metadata": {
    "collapsed": false,
    "pycharm": {
     "name": "#%%\n"
    }
   }
  },
  {
   "cell_type": "code",
   "execution_count": 2,
   "outputs": [
    {
     "name": "stdout",
     "output_type": "stream",
     "text": [
      "1\n",
      "2\n",
      "3\n",
      "4\n",
      "6\n",
      "7\n",
      "12\n",
      "14\n",
      "21\n",
      "28\n",
      "42\n",
      "84\n"
     ]
    }
   ],
   "source": [
    "number = 84\n",
    "for i in range(1, number + 1):\n",
    "    if number%i == 0: print(i)\n",
    "    \n"
   ],
   "metadata": {
    "collapsed": false,
    "pycharm": {
     "name": "#%%\n"
    }
   }
  },
  {
   "cell_type": "code",
   "execution_count": 12,
   "outputs": [
    {
     "name": "stdout",
     "output_type": "stream",
     "text": [
      "2\n"
     ]
    }
   ],
   "source": [
    "num_1 = 12\n",
    "num_2 = 38\n",
    "\n",
    "if num_1 < num_2:\n",
    "    max_range = num_1\n",
    "else:\n",
    "    max_range = num_2\n",
    "\n",
    "for i in range(2, max_range + 1):\n",
    "    if num_1%i == 0 and num_2%i == 0:\n",
    "        print(i)"
   ],
   "metadata": {
    "collapsed": false,
    "pycharm": {
     "name": "#%%\n"
    }
   }
  },
  {
   "cell_type": "code",
   "execution_count": 24,
   "outputs": [
    {
     "name": "stdout",
     "output_type": "stream",
     "text": [
      "55\n"
     ]
    }
   ],
   "source": [
    "n = 10\n",
    "\n",
    "fib_0 = 1\n",
    "fib_1 = 1\n",
    "for i in range(n):\n",
    "    if i == 0:\n",
    "        fib_1 = 1\n",
    "    elif i == 1:\n",
    "        fib_1 = 1\n",
    "    else:\n",
    "        fib_0, fib_1 = fib_1, fib_0 + fib_1\n",
    "else:\n",
    "    print(fib_1)"
   ],
   "metadata": {
    "collapsed": false,
    "pycharm": {
     "name": "#%%\n"
    }
   }
  },
  {
   "cell_type": "code",
   "execution_count": 26,
   "outputs": [
    {
     "name": "stdout",
     "output_type": "stream",
     "text": [
      "15 X 1 = 15\n",
      "15 X 2 = 30\n",
      "15 X 3 = 45\n",
      "15 X 4 = 60\n",
      "15 X 5 = 75\n",
      "15 X 6 = 90\n",
      "15 X 7 = 105\n",
      "15 X 8 = 120\n",
      "15 X 9 = 135\n",
      "15 X 10 = 150\n"
     ]
    }
   ],
   "source": [
    "number = 15\n",
    "\n",
    "for i in range(1, 11):\n",
    "    print(number, 'X', i, '=', number*i)"
   ],
   "metadata": {
    "collapsed": false,
    "pycharm": {
     "name": "#%%\n"
    }
   }
  },
  {
   "cell_type": "code",
   "execution_count": 8,
   "outputs": [
    {
     "name": "stdout",
     "output_type": "stream",
     "text": [
      "4\n"
     ]
    }
   ],
   "source": [
    "num_1 = 1812\n",
    "num_2 = 2500\n",
    "\n",
    "if num_1 < num_2:\n",
    "    max_r = num_1\n",
    "else:\n",
    "    max_r = num_2\n",
    "\n",
    "nod = 1\n",
    "for i in range(2, max_r + 10):\n",
    "    if num_1%i == 0 and num_2%i == 0:\n",
    "        nod = i\n",
    "\n",
    "if nod == 1:\n",
    "    print('Общих делителей не найдено')\n",
    "else:\n",
    "    print(nod)"
   ],
   "metadata": {
    "collapsed": false,
    "pycharm": {
     "name": "#%%\n"
    }
   }
  },
  {
   "cell_type": "code",
   "execution_count": 12,
   "outputs": [
    {
     "name": "stdout",
     "output_type": "stream",
     "text": [
      "стркция"
     ]
    }
   ],
   "source": [
    "string = 'абстракция'\n",
    "for _, c in enumerate(string):\n",
    "    if c in ['а', 'б', 'в']:\n",
    "        continue\n",
    "    print(c, end='')"
   ],
   "metadata": {
    "collapsed": false,
    "pycharm": {
     "name": "#%%\n"
    }
   }
  },
  {
   "cell_type": "code",
   "execution_count": 15,
   "outputs": [
    {
     "name": "stdout",
     "output_type": "stream",
     "text": [
      "Это отлично!\n",
      "Это отлично!\n",
      "Это отлично!\n",
      "Это отлично!\n",
      "Это отлично!\n"
     ]
    }
   ],
   "source": [
    "string = 'Да'\n",
    "\n",
    "count = 0\n",
    "for i in range(5):\n",
    "    if string == 'Да':\n",
    "        print('Это отлично!')\n",
    "    else:\n",
    "        count += 1\n",
    "        print('Увы, это неправильный ответ')\n",
    "if count == 5: print('Это безнадёжно!')"
   ],
   "metadata": {
    "collapsed": false,
    "pycharm": {
     "name": "#%%\n"
    }
   }
  },
  {
   "cell_type": "code",
   "execution_count": 17,
   "outputs": [
    {
     "name": "stdout",
     "output_type": "stream",
     "text": [
      "Не является простым\n"
     ]
    }
   ],
   "source": [
    "number = 4\n",
    "\n",
    "for i in range(2, number + 1):\n",
    "    if number%i == 0 and i != number:\n",
    "        print('Не является простым')\n",
    "        break\n",
    "else:\n",
    "    print('Простое')"
   ],
   "metadata": {
    "collapsed": false,
    "pycharm": {
     "name": "#%%\n"
    }
   }
  },
  {
   "cell_type": "code",
   "execution_count": 20,
   "outputs": [
    {
     "name": "stdout",
     "output_type": "stream",
     "text": [
      "Какая хорошая строка!\n"
     ]
    }
   ],
   "source": [
    "string = 'пока!'\n",
    "\n",
    "for idx, c in enumerate(string):\n",
    "    if idx%2==0 and c in ['а', 'у', 'о', 'ы', 'и', 'э', 'я', 'ю', 'ё', 'е']:\n",
    "        print('Строка мне не нравится!')\n",
    "        break\n",
    "else:\n",
    "    print('Какая хорошая строка!')"
   ],
   "metadata": {
    "collapsed": false,
    "pycharm": {
     "name": "#%%\n"
    }
   }
  },
  {
   "cell_type": "code",
   "execution_count": 21,
   "outputs": [
    {
     "name": "stdout",
     "output_type": "stream",
     "text": [
      "19\n"
     ]
    }
   ],
   "source": [
    "Y = 170000\n",
    "Z = 1000000\n",
    "\n",
    "years = 0\n",
    "while Y < Z:\n",
    "    Y *= 1.1\n",
    "    years += 1\n",
    "else:\n",
    "    print(years)"
   ],
   "metadata": {
    "collapsed": false,
    "pycharm": {
     "name": "#%%\n"
    }
   }
  },
  {
   "cell_type": "code",
   "execution_count": 22,
   "outputs": [
    {
     "name": "stdout",
     "output_type": "stream",
     "text": [
      "Перевес 62 кг\n"
     ]
    }
   ],
   "source": [
    "max_weight = 400\n",
    "weight = 77\n",
    "\n",
    "cur_load = 0\n",
    "while cur_load < max_weight:\n",
    "    cur_load += weight\n",
    "else:\n",
    "    print('Перевес', cur_load - max_weight, 'кг')"
   ],
   "metadata": {
    "collapsed": false,
    "pycharm": {
     "name": "#%%\n"
    }
   }
  },
  {
   "cell_type": "code",
   "execution_count": 24,
   "outputs": [
    {
     "name": "stdout",
     "output_type": "stream",
     "text": [
      "7\n"
     ]
    }
   ],
   "source": [
    "current_health = 500\n",
    "attack = 80\n",
    "\n",
    "live_time = 0\n",
    "while current_health > 0:\n",
    "    live_time += 1\n",
    "    current_health -= attack\n",
    "else:\n",
    "    print(live_time)"
   ],
   "metadata": {
    "collapsed": false,
    "pycharm": {
     "name": "#%%\n"
    }
   }
  },
  {
   "cell_type": "code",
   "execution_count": 28,
   "outputs": [
    {
     "name": "stdout",
     "output_type": "stream",
     "text": [
      "10000\n",
      "7200\n",
      "4400\n",
      "1600\n",
      "Слишком большие расходы\n"
     ]
    }
   ],
   "source": [
    "balance = 10000\n",
    "spent = 2800\n",
    "\n",
    "print(balance)\n",
    "while balance > 0:\n",
    "    balance -= spent\n",
    "    if balance > 0: print(balance)\n",
    "else:\n",
    "    print('Слишком большие расходы')"
   ],
   "metadata": {
    "collapsed": false,
    "pycharm": {
     "name": "#%%\n"
    }
   }
  },
  {
   "cell_type": "code",
   "execution_count": 29,
   "outputs": [
    {
     "name": "stdout",
     "output_type": "stream",
     "text": [
      "20\n"
     ]
    }
   ],
   "source": [
    "volume = 1000\n",
    "\n",
    "how_mach_add = 5\n",
    "\n",
    "steps = 0\n",
    "while volume > 0:\n",
    "    volume -= how_mach_add\n",
    "    how_mach_add += 5\n",
    "    steps += 1\n",
    "else:\n",
    "    print(steps)"
   ],
   "metadata": {
    "collapsed": false,
    "pycharm": {
     "name": "#%%\n"
    }
   }
  },
  {
   "cell_type": "code",
   "execution_count": 33,
   "outputs": [
    {
     "name": "stdout",
     "output_type": "stream",
     "text": [
      "3\n"
     ]
    }
   ],
   "source": [
    "for i in range(10):\n",
    "    if i >= 3: break\n",
    "print(i)"
   ],
   "metadata": {
    "collapsed": false,
    "pycharm": {
     "name": "#%%\n"
    }
   }
  }
 ],
 "metadata": {
  "kernelspec": {
   "display_name": "Python 3",
   "language": "python",
   "name": "python3"
  },
  "language_info": {
   "codemirror_mode": {
    "name": "ipython",
    "version": 2
   },
   "file_extension": ".py",
   "mimetype": "text/x-python",
   "name": "python",
   "nbconvert_exporter": "python",
   "pygments_lexer": "ipython2",
   "version": "2.7.6"
  }
 },
 "nbformat": 4,
 "nbformat_minor": 0
}