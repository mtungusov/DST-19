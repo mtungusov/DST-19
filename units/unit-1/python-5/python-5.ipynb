{
 "cells": [
  {
   "cell_type": "markdown",
   "metadata": {},
   "source": [
    "# Python-5\n",
    "## 2020-05-29"
   ]
  },
  {
   "cell_type": "code",
   "execution_count": 3,
   "metadata": {},
   "outputs": [],
   "source": [
    "import pandas as pd"
   ]
  },
  {
   "cell_type": "code",
   "execution_count": null,
   "metadata": {},
   "outputs": [],
   "source": [
    "data = pd.Series([\"Январь\", \"Февраль\", \"Март\", \"Апрель\"],\n",
    "    index=['Первый', \"Второй\", \"Третий\", \"Четвёртый\"])\n",
    "\n",
    "display(data)\n",
    "type(data)"
   ]
  },
  {
   "cell_type": "code",
   "execution_count": 20,
   "metadata": {},
   "outputs": [
    {
     "output_type": "execute_result",
     "data": {
      "text/plain": "Первый    Январь\nТретий      Март\ndtype: object"
     },
     "metadata": {},
     "execution_count": 20
    }
   ],
   "source": [
    "data.loc['Первый']\n",
    "data.loc[['Первый', \"Третий\"]]\n"
   ]
  },
  {
   "cell_type": "code",
   "execution_count": 22,
   "metadata": {},
   "outputs": [
    {
     "output_type": "display_data",
     "data": {
      "text/plain": "0        10\n1        11\n2        12\n3        13\n4        14\n       ... \n986     996\n987     997\n988     998\n989     999\n990    1000\nLength: 991, dtype: int64"
     },
     "metadata": {}
    }
   ],
   "source": [
    "data = pd.Series(list(range(10,1001)))\n",
    "display(data)"
   ]
  },
  {
   "cell_type": "code",
   "execution_count": 28,
   "metadata": {},
   "outputs": [
    {
     "output_type": "execute_result",
     "data": {
      "text/plain": "70"
     },
     "metadata": {},
     "execution_count": 28
    }
   ],
   "source": [
    "data.iloc[122]\n",
    "255-185"
   ]
  },
  {
   "cell_type": "code",
   "execution_count": 29,
   "metadata": {},
   "outputs": [
    {
     "output_type": "display_data",
     "data": {
      "text/plain": "   col1  col2\n0     1     3\n1     2     4",
      "text/html": "<div>\n<style scoped>\n    .dataframe tbody tr th:only-of-type {\n        vertical-align: middle;\n    }\n\n    .dataframe tbody tr th {\n        vertical-align: top;\n    }\n\n    .dataframe thead th {\n        text-align: right;\n    }\n</style>\n<table border=\"1\" class=\"dataframe\">\n  <thead>\n    <tr style=\"text-align: right;\">\n      <th></th>\n      <th>col1</th>\n      <th>col2</th>\n    </tr>\n  </thead>\n  <tbody>\n    <tr>\n      <th>0</th>\n      <td>1</td>\n      <td>3</td>\n    </tr>\n    <tr>\n      <th>1</th>\n      <td>2</td>\n      <td>4</td>\n    </tr>\n  </tbody>\n</table>\n</div>"
     },
     "metadata": {}
    }
   ],
   "source": [
    "df = pd.DataFrame({'col1':[1,2],\n",
    "                    'col2':[3,4]})\n",
    "display(df)"
   ]
  },
  {
   "cell_type": "markdown",
   "metadata": {},
   "source": [
    "## 5.4"
   ]
  },
  {
   "cell_type": "code",
   "execution_count": 12,
   "metadata": {},
   "outputs": [
    {
     "output_type": "display_data",
     "data": {
      "text/plain": "   Unnamed: 0               Name  Age Nationality                 Club  \\\n0           0           L. Messi   31   Argentina         FC Barcelona   \n1           1  Cristiano Ronaldo   33    Portugal             Juventus   \n2           2          Neymar Jr   26      Brazil  Paris Saint-Germain   \n3           3             De Gea   27       Spain    Manchester United   \n4           4       K. De Bruyne   27     Belgium      Manchester City   \n\n       Value    Wage Position  Crossing  Finishing  ...  Penalties  Composure  \\\n0  110500000  565000       RF        84         95  ...         75         96   \n1   77000000  405000       ST        84         94  ...         85         95   \n2  118500000  290000       LW        79         87  ...         81         94   \n3   72000000  260000       GK        17         13  ...         40         68   \n4  102000000  355000      RCM        93         82  ...         79         88   \n\n   Marking  StandingTackle  SlidingTackle  GKDiving  GKHandling  GKKicking  \\\n0       33              28             26         6          11         15   \n1       28              31             23         7          11         15   \n2       27              24             33         9           9         15   \n3       15              21             13        90          85         87   \n4       68              58             51        15          13          5   \n\n   GKPositioning  GKReflexes  \n0             14           8  \n1             14          11  \n2             15          11  \n3             88          94  \n4             10          13  \n\n[5 rows x 42 columns]",
      "text/html": "<div>\n<style scoped>\n    .dataframe tbody tr th:only-of-type {\n        vertical-align: middle;\n    }\n\n    .dataframe tbody tr th {\n        vertical-align: top;\n    }\n\n    .dataframe thead th {\n        text-align: right;\n    }\n</style>\n<table border=\"1\" class=\"dataframe\">\n  <thead>\n    <tr style=\"text-align: right;\">\n      <th></th>\n      <th>Unnamed: 0</th>\n      <th>Name</th>\n      <th>Age</th>\n      <th>Nationality</th>\n      <th>Club</th>\n      <th>Value</th>\n      <th>Wage</th>\n      <th>Position</th>\n      <th>Crossing</th>\n      <th>Finishing</th>\n      <th>...</th>\n      <th>Penalties</th>\n      <th>Composure</th>\n      <th>Marking</th>\n      <th>StandingTackle</th>\n      <th>SlidingTackle</th>\n      <th>GKDiving</th>\n      <th>GKHandling</th>\n      <th>GKKicking</th>\n      <th>GKPositioning</th>\n      <th>GKReflexes</th>\n    </tr>\n  </thead>\n  <tbody>\n    <tr>\n      <th>0</th>\n      <td>0</td>\n      <td>L. Messi</td>\n      <td>31</td>\n      <td>Argentina</td>\n      <td>FC Barcelona</td>\n      <td>110500000</td>\n      <td>565000</td>\n      <td>RF</td>\n      <td>84</td>\n      <td>95</td>\n      <td>...</td>\n      <td>75</td>\n      <td>96</td>\n      <td>33</td>\n      <td>28</td>\n      <td>26</td>\n      <td>6</td>\n      <td>11</td>\n      <td>15</td>\n      <td>14</td>\n      <td>8</td>\n    </tr>\n    <tr>\n      <th>1</th>\n      <td>1</td>\n      <td>Cristiano Ronaldo</td>\n      <td>33</td>\n      <td>Portugal</td>\n      <td>Juventus</td>\n      <td>77000000</td>\n      <td>405000</td>\n      <td>ST</td>\n      <td>84</td>\n      <td>94</td>\n      <td>...</td>\n      <td>85</td>\n      <td>95</td>\n      <td>28</td>\n      <td>31</td>\n      <td>23</td>\n      <td>7</td>\n      <td>11</td>\n      <td>15</td>\n      <td>14</td>\n      <td>11</td>\n    </tr>\n    <tr>\n      <th>2</th>\n      <td>2</td>\n      <td>Neymar Jr</td>\n      <td>26</td>\n      <td>Brazil</td>\n      <td>Paris Saint-Germain</td>\n      <td>118500000</td>\n      <td>290000</td>\n      <td>LW</td>\n      <td>79</td>\n      <td>87</td>\n      <td>...</td>\n      <td>81</td>\n      <td>94</td>\n      <td>27</td>\n      <td>24</td>\n      <td>33</td>\n      <td>9</td>\n      <td>9</td>\n      <td>15</td>\n      <td>15</td>\n      <td>11</td>\n    </tr>\n    <tr>\n      <th>3</th>\n      <td>3</td>\n      <td>De Gea</td>\n      <td>27</td>\n      <td>Spain</td>\n      <td>Manchester United</td>\n      <td>72000000</td>\n      <td>260000</td>\n      <td>GK</td>\n      <td>17</td>\n      <td>13</td>\n      <td>...</td>\n      <td>40</td>\n      <td>68</td>\n      <td>15</td>\n      <td>21</td>\n      <td>13</td>\n      <td>90</td>\n      <td>85</td>\n      <td>87</td>\n      <td>88</td>\n      <td>94</td>\n    </tr>\n    <tr>\n      <th>4</th>\n      <td>4</td>\n      <td>K. De Bruyne</td>\n      <td>27</td>\n      <td>Belgium</td>\n      <td>Manchester City</td>\n      <td>102000000</td>\n      <td>355000</td>\n      <td>RCM</td>\n      <td>93</td>\n      <td>82</td>\n      <td>...</td>\n      <td>79</td>\n      <td>88</td>\n      <td>68</td>\n      <td>58</td>\n      <td>51</td>\n      <td>15</td>\n      <td>13</td>\n      <td>5</td>\n      <td>10</td>\n      <td>13</td>\n    </tr>\n  </tbody>\n</table>\n<p>5 rows × 42 columns</p>\n</div>"
     },
     "metadata": {}
    }
   ],
   "source": [
    "df = pd.read_csv('data_sf.csv')\n",
    "display(df.head())"
   ]
  },
  {
   "cell_type": "markdown",
   "metadata": {},
   "source": [
    "## 5.5"
   ]
  },
  {
   "cell_type": "code",
   "execution_count": 14,
   "metadata": {},
   "outputs": [
    {
     "output_type": "stream",
     "name": "stdout",
     "text": "<class 'pandas.core.frame.DataFrame'>\nRangeIndex: 12897 entries, 0 to 12896\nData columns (total 42 columns):\n #   Column           Non-Null Count  Dtype \n---  ------           --------------  ----- \n 0   Unnamed: 0       12897 non-null  int64 \n 1   Name             12897 non-null  object\n 2   Age              12897 non-null  int64 \n 3   Nationality      12897 non-null  object\n 4   Club             12897 non-null  object\n 5   Value            12897 non-null  int64 \n 6   Wage             12897 non-null  int64 \n 7   Position         12897 non-null  object\n 8   Crossing         12897 non-null  int64 \n 9   Finishing        12897 non-null  int64 \n 10  HeadingAccuracy  12897 non-null  int64 \n 11  ShortPassing     12897 non-null  int64 \n 12  Volleys          12897 non-null  int64 \n 13  Dribbling        12897 non-null  int64 \n 14  Curve            12897 non-null  int64 \n 15  FKAccuracy       12897 non-null  int64 \n 16  LongPassing      12897 non-null  int64 \n 17  BallControl      12897 non-null  int64 \n 18  Acceleration     12897 non-null  int64 \n 19  SprintSpeed      12897 non-null  int64 \n 20  Agility          12897 non-null  int64 \n 21  Reactions        12897 non-null  int64 \n 22  Balance          12897 non-null  int64 \n 23  ShotPower        12897 non-null  int64 \n 24  Jumping          12897 non-null  int64 \n 25  Stamina          12897 non-null  int64 \n 26  Strength         12897 non-null  int64 \n 27  LongShots        12897 non-null  int64 \n 28  Aggression       12897 non-null  int64 \n 29  Interceptions    12897 non-null  int64 \n 30  Positioning      12897 non-null  int64 \n 31  Vision           12897 non-null  int64 \n 32  Penalties        12897 non-null  int64 \n 33  Composure        12897 non-null  int64 \n 34  Marking          12897 non-null  int64 \n 35  StandingTackle   12897 non-null  int64 \n 36  SlidingTackle    12897 non-null  int64 \n 37  GKDiving         12897 non-null  int64 \n 38  GKHandling       12897 non-null  int64 \n 39  GKKicking        12897 non-null  int64 \n 40  GKPositioning    12897 non-null  int64 \n 41  GKReflexes       12897 non-null  int64 \ndtypes: int64(38), object(4)\nmemory usage: 4.1+ MB\n"
    }
   ],
   "source": [
    "df.info()"
   ]
  },
  {
   "cell_type": "markdown",
   "metadata": {},
   "source": [
    "## 5.6"
   ]
  },
  {
   "cell_type": "code",
   "execution_count": 53,
   "metadata": {},
   "outputs": [
    {
     "output_type": "execute_result",
     "data": {
      "text/plain": "         Unnamed: 0           Age         Value           Wage      Crossing  \\\ncount  12897.000000  12897.000000  1.289700e+04   12897.000000  12897.000000   \nmean    6605.040862     24.795379  2.112449e+06    7517.562224     47.076374   \nstd     3782.545526      4.872212  6.498424e+06   23061.985387     18.043470   \nmin        0.000000     16.000000  0.000000e+00    1000.000000      5.000000   \n25%     3357.000000     21.000000  2.500000e+05    1000.000000     35.000000   \n50%     6622.000000     24.000000  5.000000e+05    2000.000000     51.000000   \n75%     9876.000000     28.000000  8.500000e+05    4000.000000     61.000000   \nmax    13125.000000     45.000000  1.185000e+08  565000.000000     93.000000   \n\n          Finishing  HeadingAccuracy  ShortPassing       Volleys  \\\ncount  12897.000000     12897.000000  12897.000000  12897.000000   \nmean      42.876328        50.202528     56.026983     40.295030   \nstd       19.096935        17.281593     14.740436     17.080687   \nmin        2.000000         4.000000      7.000000      4.000000   \n25%       28.000000        43.000000     50.000000     28.000000   \n50%       45.000000        54.000000     60.000000     41.000000   \n75%       59.000000        62.000000     65.000000     53.000000   \nmax       95.000000        94.000000     93.000000     90.000000   \n\n          Dribbling  ...     Penalties     Composure       Marking  \\\ncount  12897.000000  ...  12897.000000  12897.000000  12897.000000   \nmean      52.461735  ...     46.459874     55.942932     45.655811   \nstd       18.871643  ...     15.479313     11.280631     19.456346   \nmin        4.000000  ...      5.000000     12.000000      3.000000   \n25%       45.000000  ...     37.000000     49.000000     29.000000   \n50%       58.000000  ...     47.000000     56.000000     51.000000   \n75%       65.000000  ...     58.000000     63.000000     62.000000   \nmax       97.000000  ...     91.000000     96.000000     93.000000   \n\n       StandingTackle  SlidingTackle      GKDiving    GKHandling  \\\ncount    12897.000000   12897.000000  12897.000000  12897.000000   \nmean        46.186710      44.386679     17.218345     16.962317   \nstd         21.172586      20.726546     18.085618     17.349624   \nmin          2.000000       3.000000      1.000000      1.000000   \n25%         25.000000      23.000000      8.000000      8.000000   \n50%         54.000000      51.000000     11.000000     11.000000   \n75%         64.000000      62.000000     14.000000     14.000000   \nmax         93.000000      91.000000     90.000000     92.000000   \n\n          GKKicking  GKPositioning    GKReflexes  \ncount  12897.000000   12897.000000  12897.000000  \nmean      16.797938      16.950221     17.315965  \nstd       16.971411      17.369297     18.335817  \nmin        1.000000       1.000000      1.000000  \n25%        8.000000       8.000000      8.000000  \n50%       11.000000      11.000000     11.000000  \n75%       14.000000      14.000000     14.000000  \nmax       91.000000      90.000000     94.000000  \n\n[8 rows x 38 columns]",
      "text/html": "<div>\n<style scoped>\n    .dataframe tbody tr th:only-of-type {\n        vertical-align: middle;\n    }\n\n    .dataframe tbody tr th {\n        vertical-align: top;\n    }\n\n    .dataframe thead th {\n        text-align: right;\n    }\n</style>\n<table border=\"1\" class=\"dataframe\">\n  <thead>\n    <tr style=\"text-align: right;\">\n      <th></th>\n      <th>Unnamed: 0</th>\n      <th>Age</th>\n      <th>Value</th>\n      <th>Wage</th>\n      <th>Crossing</th>\n      <th>Finishing</th>\n      <th>HeadingAccuracy</th>\n      <th>ShortPassing</th>\n      <th>Volleys</th>\n      <th>Dribbling</th>\n      <th>...</th>\n      <th>Penalties</th>\n      <th>Composure</th>\n      <th>Marking</th>\n      <th>StandingTackle</th>\n      <th>SlidingTackle</th>\n      <th>GKDiving</th>\n      <th>GKHandling</th>\n      <th>GKKicking</th>\n      <th>GKPositioning</th>\n      <th>GKReflexes</th>\n    </tr>\n  </thead>\n  <tbody>\n    <tr>\n      <th>count</th>\n      <td>12897.000000</td>\n      <td>12897.000000</td>\n      <td>1.289700e+04</td>\n      <td>12897.000000</td>\n      <td>12897.000000</td>\n      <td>12897.000000</td>\n      <td>12897.000000</td>\n      <td>12897.000000</td>\n      <td>12897.000000</td>\n      <td>12897.000000</td>\n      <td>...</td>\n      <td>12897.000000</td>\n      <td>12897.000000</td>\n      <td>12897.000000</td>\n      <td>12897.000000</td>\n      <td>12897.000000</td>\n      <td>12897.000000</td>\n      <td>12897.000000</td>\n      <td>12897.000000</td>\n      <td>12897.000000</td>\n      <td>12897.000000</td>\n    </tr>\n    <tr>\n      <th>mean</th>\n      <td>6605.040862</td>\n      <td>24.795379</td>\n      <td>2.112449e+06</td>\n      <td>7517.562224</td>\n      <td>47.076374</td>\n      <td>42.876328</td>\n      <td>50.202528</td>\n      <td>56.026983</td>\n      <td>40.295030</td>\n      <td>52.461735</td>\n      <td>...</td>\n      <td>46.459874</td>\n      <td>55.942932</td>\n      <td>45.655811</td>\n      <td>46.186710</td>\n      <td>44.386679</td>\n      <td>17.218345</td>\n      <td>16.962317</td>\n      <td>16.797938</td>\n      <td>16.950221</td>\n      <td>17.315965</td>\n    </tr>\n    <tr>\n      <th>std</th>\n      <td>3782.545526</td>\n      <td>4.872212</td>\n      <td>6.498424e+06</td>\n      <td>23061.985387</td>\n      <td>18.043470</td>\n      <td>19.096935</td>\n      <td>17.281593</td>\n      <td>14.740436</td>\n      <td>17.080687</td>\n      <td>18.871643</td>\n      <td>...</td>\n      <td>15.479313</td>\n      <td>11.280631</td>\n      <td>19.456346</td>\n      <td>21.172586</td>\n      <td>20.726546</td>\n      <td>18.085618</td>\n      <td>17.349624</td>\n      <td>16.971411</td>\n      <td>17.369297</td>\n      <td>18.335817</td>\n    </tr>\n    <tr>\n      <th>min</th>\n      <td>0.000000</td>\n      <td>16.000000</td>\n      <td>0.000000e+00</td>\n      <td>1000.000000</td>\n      <td>5.000000</td>\n      <td>2.000000</td>\n      <td>4.000000</td>\n      <td>7.000000</td>\n      <td>4.000000</td>\n      <td>4.000000</td>\n      <td>...</td>\n      <td>5.000000</td>\n      <td>12.000000</td>\n      <td>3.000000</td>\n      <td>2.000000</td>\n      <td>3.000000</td>\n      <td>1.000000</td>\n      <td>1.000000</td>\n      <td>1.000000</td>\n      <td>1.000000</td>\n      <td>1.000000</td>\n    </tr>\n    <tr>\n      <th>25%</th>\n      <td>3357.000000</td>\n      <td>21.000000</td>\n      <td>2.500000e+05</td>\n      <td>1000.000000</td>\n      <td>35.000000</td>\n      <td>28.000000</td>\n      <td>43.000000</td>\n      <td>50.000000</td>\n      <td>28.000000</td>\n      <td>45.000000</td>\n      <td>...</td>\n      <td>37.000000</td>\n      <td>49.000000</td>\n      <td>29.000000</td>\n      <td>25.000000</td>\n      <td>23.000000</td>\n      <td>8.000000</td>\n      <td>8.000000</td>\n      <td>8.000000</td>\n      <td>8.000000</td>\n      <td>8.000000</td>\n    </tr>\n    <tr>\n      <th>50%</th>\n      <td>6622.000000</td>\n      <td>24.000000</td>\n      <td>5.000000e+05</td>\n      <td>2000.000000</td>\n      <td>51.000000</td>\n      <td>45.000000</td>\n      <td>54.000000</td>\n      <td>60.000000</td>\n      <td>41.000000</td>\n      <td>58.000000</td>\n      <td>...</td>\n      <td>47.000000</td>\n      <td>56.000000</td>\n      <td>51.000000</td>\n      <td>54.000000</td>\n      <td>51.000000</td>\n      <td>11.000000</td>\n      <td>11.000000</td>\n      <td>11.000000</td>\n      <td>11.000000</td>\n      <td>11.000000</td>\n    </tr>\n    <tr>\n      <th>75%</th>\n      <td>9876.000000</td>\n      <td>28.000000</td>\n      <td>8.500000e+05</td>\n      <td>4000.000000</td>\n      <td>61.000000</td>\n      <td>59.000000</td>\n      <td>62.000000</td>\n      <td>65.000000</td>\n      <td>53.000000</td>\n      <td>65.000000</td>\n      <td>...</td>\n      <td>58.000000</td>\n      <td>63.000000</td>\n      <td>62.000000</td>\n      <td>64.000000</td>\n      <td>62.000000</td>\n      <td>14.000000</td>\n      <td>14.000000</td>\n      <td>14.000000</td>\n      <td>14.000000</td>\n      <td>14.000000</td>\n    </tr>\n    <tr>\n      <th>max</th>\n      <td>13125.000000</td>\n      <td>45.000000</td>\n      <td>1.185000e+08</td>\n      <td>565000.000000</td>\n      <td>93.000000</td>\n      <td>95.000000</td>\n      <td>94.000000</td>\n      <td>93.000000</td>\n      <td>90.000000</td>\n      <td>97.000000</td>\n      <td>...</td>\n      <td>91.000000</td>\n      <td>96.000000</td>\n      <td>93.000000</td>\n      <td>93.000000</td>\n      <td>91.000000</td>\n      <td>90.000000</td>\n      <td>92.000000</td>\n      <td>91.000000</td>\n      <td>90.000000</td>\n      <td>94.000000</td>\n    </tr>\n  </tbody>\n</table>\n<p>8 rows × 38 columns</p>\n</div>"
     },
     "metadata": {},
     "execution_count": 53
    }
   ],
   "source": [
    "df.describe()\n",
    "# df.describe(include=['object'])\n",
    "# with pd.option_context('display.max_rows', None, 'display.max_columns', None):\n",
    "#     display(df.describe())"
   ]
  },
  {
   "cell_type": "markdown",
   "metadata": {},
   "source": [
    "## 5.7"
   ]
  },
  {
   "cell_type": "code",
   "execution_count": 45,
   "metadata": {},
   "outputs": [
    {
     "output_type": "execute_result",
     "data": {
      "text/plain": "0"
     },
     "metadata": {},
     "execution_count": 45
    }
   ],
   "source": [
    "# display(df.max())\n",
    "df['Age'].mean()\n",
    "df.Composure\n",
    "df.ShortPassing.std()\n",
    "df['Wage'].sum()\n",
    "df['Value'].min()\n"
   ]
  },
  {
   "cell_type": "markdown",
   "metadata": {},
   "source": [
    "## 5.8"
   ]
  },
  {
   "cell_type": "code",
   "execution_count": 117,
   "metadata": {},
   "outputs": [
    {
     "output_type": "execute_result",
     "data": {
      "text/plain": "2.076923076923077"
     },
     "metadata": {},
     "execution_count": 117
    }
   ],
   "source": [
    "df[df.Wage > 400000]\n",
    "df[df.Wage > df.Wage.mean()].SprintSpeed.mean()\n",
    "df[df.Wage < df.Wage.mean()].SprintSpeed.mean()\n",
    "df[df.Wage == df.Wage.max()]\n",
    "df[df.Nationality == 'Brazil'].Penalties.sum()\n",
    "df[df.HeadingAccuracy > 50].Age.mean()\n",
    "df.Composure.max()*0.9\n",
    "df.Reactions.max()*0.9\n",
    "df[(df.Composure > df.Composure.max()*0.9) & (df.Reactions > df.Reactions.max()*0.9)].Age.min()\n",
    "\n",
    "df[df.Age == df.Age.max()].Reactions.mean() - df[df.Age == df.Age.min()].Reactions.mean()\n",
    "df[df.Value > df.Value.mean()].describe(include=['object'])\n",
    "df[df.Value > df.Value.mean()].Nationality.value_counts()\n",
    "\n",
    "df[(df.GKReflexes == df.GKReflexes.max()) & (df.Position == 'GK')].Wage.mean() / df[(df.GKHandling == df.GKHandling.max()) & (df.Position == 'GK')].Wage.mean()\n",
    "\n",
    "df[df.Aggression == df.Aggression.max()].ShotPower.mean() / df[df.Aggression == df.Aggression.min()].ShotPower.mean()\n"
   ]
  }
 ],
 "metadata": {
  "language_info": {
   "codemirror_mode": {
    "name": "ipython",
    "version": 3
   },
   "file_extension": ".py",
   "mimetype": "text/x-python",
   "name": "python",
   "nbconvert_exporter": "python",
   "pygments_lexer": "ipython3",
   "version": "3.7.7-final"
  },
  "orig_nbformat": 2,
  "kernelspec": {
   "name": "python37764bitvenvvenve45e44d36b5c4423b8fd94c391dcb8da",
   "display_name": "Python 3.7.7 64-bit ('.venv': venv)"
  }
 },
 "nbformat": 4,
 "nbformat_minor": 2
}