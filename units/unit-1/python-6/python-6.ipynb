{
 "cells": [
  {
   "cell_type": "markdown",
   "metadata": {},
   "source": [
    "# Python-6\n",
    "## 2020-06-15"
   ]
  },
  {
   "cell_type": "code",
   "execution_count": 1,
   "metadata": {},
   "outputs": [],
   "source": [
    "import pandas as pd"
   ]
  },
  {
   "cell_type": "code",
   "execution_count": 5,
   "metadata": {
    "tags": []
   },
   "outputs": [
    {
     "output_type": "stream",
     "name": "stdout",
     "text": "<class 'pandas.core.frame.DataFrame'>\nRangeIndex: 12897 entries, 0 to 12896\nData columns (total 42 columns):\n #   Column           Non-Null Count  Dtype \n---  ------           --------------  ----- \n 0   Unnamed: 0       12897 non-null  int64 \n 1   Name             12897 non-null  object\n 2   Age              12897 non-null  int64 \n 3   Nationality      12897 non-null  object\n 4   Club             12897 non-null  object\n 5   Value            12897 non-null  int64 \n 6   Wage             12897 non-null  int64 \n 7   Position         12897 non-null  object\n 8   Crossing         12897 non-null  int64 \n 9   Finishing        12897 non-null  int64 \n 10  HeadingAccuracy  12897 non-null  int64 \n 11  ShortPassing     12897 non-null  int64 \n 12  Volleys          12897 non-null  int64 \n 13  Dribbling        12897 non-null  int64 \n 14  Curve            12897 non-null  int64 \n 15  FKAccuracy       12897 non-null  int64 \n 16  LongPassing      12897 non-null  int64 \n 17  BallControl      12897 non-null  int64 \n 18  Acceleration     12897 non-null  int64 \n 19  SprintSpeed      12897 non-null  int64 \n 20  Agility          12897 non-null  int64 \n 21  Reactions        12897 non-null  int64 \n 22  Balance          12897 non-null  int64 \n 23  ShotPower        12897 non-null  int64 \n 24  Jumping          12897 non-null  int64 \n 25  Stamina          12897 non-null  int64 \n 26  Strength         12897 non-null  int64 \n 27  LongShots        12897 non-null  int64 \n 28  Aggression       12897 non-null  int64 \n 29  Interceptions    12897 non-null  int64 \n 30  Positioning      12897 non-null  int64 \n 31  Vision           12897 non-null  int64 \n 32  Penalties        12897 non-null  int64 \n 33  Composure        12897 non-null  int64 \n 34  Marking          12897 non-null  int64 \n 35  StandingTackle   12897 non-null  int64 \n 36  SlidingTackle    12897 non-null  int64 \n 37  GKDiving         12897 non-null  int64 \n 38  GKHandling       12897 non-null  int64 \n 39  GKKicking        12897 non-null  int64 \n 40  GKPositioning    12897 non-null  int64 \n 41  GKReflexes       12897 non-null  int64 \ndtypes: int64(38), object(4)\nmemory usage: 4.1+ MB\n"
    }
   ],
   "source": [
    "df = pd.read_csv('../data_sf.csv')\n",
    "df.info()"
   ]
  },
  {
   "cell_type": "code",
   "execution_count": 6,
   "metadata": {},
   "outputs": [
    {
     "output_type": "execute_result",
     "data": {
      "text/plain": "         Unnamed: 0           Age         Value           Wage      Crossing  \\\ncount  12897.000000  12897.000000  1.289700e+04   12897.000000  12897.000000   \nmean    6605.040862     24.795379  2.112449e+06    7517.562224     47.076374   \nstd     3782.545526      4.872212  6.498424e+06   23061.985387     18.043470   \nmin        0.000000     16.000000  0.000000e+00    1000.000000      5.000000   \n25%     3357.000000     21.000000  2.500000e+05    1000.000000     35.000000   \n50%     6622.000000     24.000000  5.000000e+05    2000.000000     51.000000   \n75%     9876.000000     28.000000  8.500000e+05    4000.000000     61.000000   \nmax    13125.000000     45.000000  1.185000e+08  565000.000000     93.000000   \n\n          Finishing  HeadingAccuracy  ShortPassing       Volleys  \\\ncount  12897.000000     12897.000000  12897.000000  12897.000000   \nmean      42.876328        50.202528     56.026983     40.295030   \nstd       19.096935        17.281593     14.740436     17.080687   \nmin        2.000000         4.000000      7.000000      4.000000   \n25%       28.000000        43.000000     50.000000     28.000000   \n50%       45.000000        54.000000     60.000000     41.000000   \n75%       59.000000        62.000000     65.000000     53.000000   \nmax       95.000000        94.000000     93.000000     90.000000   \n\n          Dribbling  ...     Penalties     Composure       Marking  \\\ncount  12897.000000  ...  12897.000000  12897.000000  12897.000000   \nmean      52.461735  ...     46.459874     55.942932     45.655811   \nstd       18.871643  ...     15.479313     11.280631     19.456346   \nmin        4.000000  ...      5.000000     12.000000      3.000000   \n25%       45.000000  ...     37.000000     49.000000     29.000000   \n50%       58.000000  ...     47.000000     56.000000     51.000000   \n75%       65.000000  ...     58.000000     63.000000     62.000000   \nmax       97.000000  ...     91.000000     96.000000     93.000000   \n\n       StandingTackle  SlidingTackle      GKDiving    GKHandling  \\\ncount    12897.000000   12897.000000  12897.000000  12897.000000   \nmean        46.186710      44.386679     17.218345     16.962317   \nstd         21.172586      20.726546     18.085618     17.349624   \nmin          2.000000       3.000000      1.000000      1.000000   \n25%         25.000000      23.000000      8.000000      8.000000   \n50%         54.000000      51.000000     11.000000     11.000000   \n75%         64.000000      62.000000     14.000000     14.000000   \nmax         93.000000      91.000000     90.000000     92.000000   \n\n          GKKicking  GKPositioning    GKReflexes  \ncount  12897.000000   12897.000000  12897.000000  \nmean      16.797938      16.950221     17.315965  \nstd       16.971411      17.369297     18.335817  \nmin        1.000000       1.000000      1.000000  \n25%        8.000000       8.000000      8.000000  \n50%       11.000000      11.000000     11.000000  \n75%       14.000000      14.000000     14.000000  \nmax       91.000000      90.000000     94.000000  \n\n[8 rows x 38 columns]",
      "text/html": "<div>\n<style scoped>\n    .dataframe tbody tr th:only-of-type {\n        vertical-align: middle;\n    }\n\n    .dataframe tbody tr th {\n        vertical-align: top;\n    }\n\n    .dataframe thead th {\n        text-align: right;\n    }\n</style>\n<table border=\"1\" class=\"dataframe\">\n  <thead>\n    <tr style=\"text-align: right;\">\n      <th></th>\n      <th>Unnamed: 0</th>\n      <th>Age</th>\n      <th>Value</th>\n      <th>Wage</th>\n      <th>Crossing</th>\n      <th>Finishing</th>\n      <th>HeadingAccuracy</th>\n      <th>ShortPassing</th>\n      <th>Volleys</th>\n      <th>Dribbling</th>\n      <th>...</th>\n      <th>Penalties</th>\n      <th>Composure</th>\n      <th>Marking</th>\n      <th>StandingTackle</th>\n      <th>SlidingTackle</th>\n      <th>GKDiving</th>\n      <th>GKHandling</th>\n      <th>GKKicking</th>\n      <th>GKPositioning</th>\n      <th>GKReflexes</th>\n    </tr>\n  </thead>\n  <tbody>\n    <tr>\n      <th>count</th>\n      <td>12897.000000</td>\n      <td>12897.000000</td>\n      <td>1.289700e+04</td>\n      <td>12897.000000</td>\n      <td>12897.000000</td>\n      <td>12897.000000</td>\n      <td>12897.000000</td>\n      <td>12897.000000</td>\n      <td>12897.000000</td>\n      <td>12897.000000</td>\n      <td>...</td>\n      <td>12897.000000</td>\n      <td>12897.000000</td>\n      <td>12897.000000</td>\n      <td>12897.000000</td>\n      <td>12897.000000</td>\n      <td>12897.000000</td>\n      <td>12897.000000</td>\n      <td>12897.000000</td>\n      <td>12897.000000</td>\n      <td>12897.000000</td>\n    </tr>\n    <tr>\n      <th>mean</th>\n      <td>6605.040862</td>\n      <td>24.795379</td>\n      <td>2.112449e+06</td>\n      <td>7517.562224</td>\n      <td>47.076374</td>\n      <td>42.876328</td>\n      <td>50.202528</td>\n      <td>56.026983</td>\n      <td>40.295030</td>\n      <td>52.461735</td>\n      <td>...</td>\n      <td>46.459874</td>\n      <td>55.942932</td>\n      <td>45.655811</td>\n      <td>46.186710</td>\n      <td>44.386679</td>\n      <td>17.218345</td>\n      <td>16.962317</td>\n      <td>16.797938</td>\n      <td>16.950221</td>\n      <td>17.315965</td>\n    </tr>\n    <tr>\n      <th>std</th>\n      <td>3782.545526</td>\n      <td>4.872212</td>\n      <td>6.498424e+06</td>\n      <td>23061.985387</td>\n      <td>18.043470</td>\n      <td>19.096935</td>\n      <td>17.281593</td>\n      <td>14.740436</td>\n      <td>17.080687</td>\n      <td>18.871643</td>\n      <td>...</td>\n      <td>15.479313</td>\n      <td>11.280631</td>\n      <td>19.456346</td>\n      <td>21.172586</td>\n      <td>20.726546</td>\n      <td>18.085618</td>\n      <td>17.349624</td>\n      <td>16.971411</td>\n      <td>17.369297</td>\n      <td>18.335817</td>\n    </tr>\n    <tr>\n      <th>min</th>\n      <td>0.000000</td>\n      <td>16.000000</td>\n      <td>0.000000e+00</td>\n      <td>1000.000000</td>\n      <td>5.000000</td>\n      <td>2.000000</td>\n      <td>4.000000</td>\n      <td>7.000000</td>\n      <td>4.000000</td>\n      <td>4.000000</td>\n      <td>...</td>\n      <td>5.000000</td>\n      <td>12.000000</td>\n      <td>3.000000</td>\n      <td>2.000000</td>\n      <td>3.000000</td>\n      <td>1.000000</td>\n      <td>1.000000</td>\n      <td>1.000000</td>\n      <td>1.000000</td>\n      <td>1.000000</td>\n    </tr>\n    <tr>\n      <th>25%</th>\n      <td>3357.000000</td>\n      <td>21.000000</td>\n      <td>2.500000e+05</td>\n      <td>1000.000000</td>\n      <td>35.000000</td>\n      <td>28.000000</td>\n      <td>43.000000</td>\n      <td>50.000000</td>\n      <td>28.000000</td>\n      <td>45.000000</td>\n      <td>...</td>\n      <td>37.000000</td>\n      <td>49.000000</td>\n      <td>29.000000</td>\n      <td>25.000000</td>\n      <td>23.000000</td>\n      <td>8.000000</td>\n      <td>8.000000</td>\n      <td>8.000000</td>\n      <td>8.000000</td>\n      <td>8.000000</td>\n    </tr>\n    <tr>\n      <th>50%</th>\n      <td>6622.000000</td>\n      <td>24.000000</td>\n      <td>5.000000e+05</td>\n      <td>2000.000000</td>\n      <td>51.000000</td>\n      <td>45.000000</td>\n      <td>54.000000</td>\n      <td>60.000000</td>\n      <td>41.000000</td>\n      <td>58.000000</td>\n      <td>...</td>\n      <td>47.000000</td>\n      <td>56.000000</td>\n      <td>51.000000</td>\n      <td>54.000000</td>\n      <td>51.000000</td>\n      <td>11.000000</td>\n      <td>11.000000</td>\n      <td>11.000000</td>\n      <td>11.000000</td>\n      <td>11.000000</td>\n    </tr>\n    <tr>\n      <th>75%</th>\n      <td>9876.000000</td>\n      <td>28.000000</td>\n      <td>8.500000e+05</td>\n      <td>4000.000000</td>\n      <td>61.000000</td>\n      <td>59.000000</td>\n      <td>62.000000</td>\n      <td>65.000000</td>\n      <td>53.000000</td>\n      <td>65.000000</td>\n      <td>...</td>\n      <td>58.000000</td>\n      <td>63.000000</td>\n      <td>62.000000</td>\n      <td>64.000000</td>\n      <td>62.000000</td>\n      <td>14.000000</td>\n      <td>14.000000</td>\n      <td>14.000000</td>\n      <td>14.000000</td>\n      <td>14.000000</td>\n    </tr>\n    <tr>\n      <th>max</th>\n      <td>13125.000000</td>\n      <td>45.000000</td>\n      <td>1.185000e+08</td>\n      <td>565000.000000</td>\n      <td>93.000000</td>\n      <td>95.000000</td>\n      <td>94.000000</td>\n      <td>93.000000</td>\n      <td>90.000000</td>\n      <td>97.000000</td>\n      <td>...</td>\n      <td>91.000000</td>\n      <td>96.000000</td>\n      <td>93.000000</td>\n      <td>93.000000</td>\n      <td>91.000000</td>\n      <td>90.000000</td>\n      <td>92.000000</td>\n      <td>91.000000</td>\n      <td>90.000000</td>\n      <td>94.000000</td>\n    </tr>\n  </tbody>\n</table>\n<p>8 rows × 38 columns</p>\n</div>"
     },
     "metadata": {},
     "execution_count": 6
    }
   ],
   "source": [
    "df.describe()"
   ]
  },
  {
   "cell_type": "code",
   "execution_count": 9,
   "metadata": {},
   "outputs": [
    {
     "output_type": "execute_result",
     "data": {
      "text/plain": "                 Name  Age Nationality                 Club      Value  \\\n0            L. Messi   31   Argentina         FC Barcelona  110500000   \n1   Cristiano Ronaldo   33    Portugal             Juventus   77000000   \n2           Neymar Jr   26      Brazil  Paris Saint-Germain  118500000   \n3              De Gea   27       Spain    Manchester United   72000000   \n4        K. De Bruyne   27     Belgium      Manchester City  102000000   \n5           E. Hazard   27     Belgium              Chelsea   93000000   \n6           L. Modrić   32     Croatia          Real Madrid   67000000   \n7           L. Suárez   31     Uruguay         FC Barcelona   80000000   \n8        Sergio Ramos   32       Spain          Real Madrid   51000000   \n9            J. Oblak   25    Slovenia      Atlético Madrid   68000000   \n10     R. Lewandowski   29      Poland    FC Bayern München   77000000   \n11           T. Kroos   28     Germany          Real Madrid   76500000   \n12           D. Godín   32     Uruguay      Atlético Madrid   44000000   \n13        David Silva   32       Spain      Manchester City   60000000   \n14           N. Kanté   27      France              Chelsea   63000000   \n15          P. Dybala   24   Argentina             Juventus   89000000   \n16            H. Kane   24     England    Tottenham Hotspur   83500000   \n17       A. Griezmann   27      France      Atlético Madrid   78000000   \n18      M. ter Stegen   26     Germany         FC Barcelona   58000000   \n19        T. Courtois   26     Belgium          Real Madrid   53500000   \n20    Sergio Busquets   29       Spain         FC Barcelona   51500000   \n21          E. Cavani   31     Uruguay  Paris Saint-Germain   60000000   \n22           M. Neuer   32     Germany    FC Bayern München   38000000   \n23          S. Agüero   30   Argentina      Manchester City   64500000   \n24       G. Chiellini   33       Italy             Juventus   27000000   \n\n      Wage Position  \n0   565000       RF  \n1   405000       ST  \n2   290000       LW  \n3   260000       GK  \n4   355000      RCM  \n5   340000       LF  \n6   420000      RCM  \n7   455000       RS  \n8   380000      RCB  \n9    94000       GK  \n10  205000       ST  \n11  355000      LCM  \n12  125000       CB  \n13  285000      LCM  \n14  225000      LDM  \n15  205000       LF  \n16  205000       ST  \n17  145000      CAM  \n18  240000       GK  \n19  240000       GK  \n20  315000      CDM  \n21  200000       LS  \n22  130000       GK  \n23  300000       ST  \n24  215000      LCB  ",
      "text/html": "<div>\n<style scoped>\n    .dataframe tbody tr th:only-of-type {\n        vertical-align: middle;\n    }\n\n    .dataframe tbody tr th {\n        vertical-align: top;\n    }\n\n    .dataframe thead th {\n        text-align: right;\n    }\n</style>\n<table border=\"1\" class=\"dataframe\">\n  <thead>\n    <tr style=\"text-align: right;\">\n      <th></th>\n      <th>Name</th>\n      <th>Age</th>\n      <th>Nationality</th>\n      <th>Club</th>\n      <th>Value</th>\n      <th>Wage</th>\n      <th>Position</th>\n    </tr>\n  </thead>\n  <tbody>\n    <tr>\n      <th>0</th>\n      <td>L. Messi</td>\n      <td>31</td>\n      <td>Argentina</td>\n      <td>FC Barcelona</td>\n      <td>110500000</td>\n      <td>565000</td>\n      <td>RF</td>\n    </tr>\n    <tr>\n      <th>1</th>\n      <td>Cristiano Ronaldo</td>\n      <td>33</td>\n      <td>Portugal</td>\n      <td>Juventus</td>\n      <td>77000000</td>\n      <td>405000</td>\n      <td>ST</td>\n    </tr>\n    <tr>\n      <th>2</th>\n      <td>Neymar Jr</td>\n      <td>26</td>\n      <td>Brazil</td>\n      <td>Paris Saint-Germain</td>\n      <td>118500000</td>\n      <td>290000</td>\n      <td>LW</td>\n    </tr>\n    <tr>\n      <th>3</th>\n      <td>De Gea</td>\n      <td>27</td>\n      <td>Spain</td>\n      <td>Manchester United</td>\n      <td>72000000</td>\n      <td>260000</td>\n      <td>GK</td>\n    </tr>\n    <tr>\n      <th>4</th>\n      <td>K. De Bruyne</td>\n      <td>27</td>\n      <td>Belgium</td>\n      <td>Manchester City</td>\n      <td>102000000</td>\n      <td>355000</td>\n      <td>RCM</td>\n    </tr>\n    <tr>\n      <th>5</th>\n      <td>E. Hazard</td>\n      <td>27</td>\n      <td>Belgium</td>\n      <td>Chelsea</td>\n      <td>93000000</td>\n      <td>340000</td>\n      <td>LF</td>\n    </tr>\n    <tr>\n      <th>6</th>\n      <td>L. Modrić</td>\n      <td>32</td>\n      <td>Croatia</td>\n      <td>Real Madrid</td>\n      <td>67000000</td>\n      <td>420000</td>\n      <td>RCM</td>\n    </tr>\n    <tr>\n      <th>7</th>\n      <td>L. Suárez</td>\n      <td>31</td>\n      <td>Uruguay</td>\n      <td>FC Barcelona</td>\n      <td>80000000</td>\n      <td>455000</td>\n      <td>RS</td>\n    </tr>\n    <tr>\n      <th>8</th>\n      <td>Sergio Ramos</td>\n      <td>32</td>\n      <td>Spain</td>\n      <td>Real Madrid</td>\n      <td>51000000</td>\n      <td>380000</td>\n      <td>RCB</td>\n    </tr>\n    <tr>\n      <th>9</th>\n      <td>J. Oblak</td>\n      <td>25</td>\n      <td>Slovenia</td>\n      <td>Atlético Madrid</td>\n      <td>68000000</td>\n      <td>94000</td>\n      <td>GK</td>\n    </tr>\n    <tr>\n      <th>10</th>\n      <td>R. Lewandowski</td>\n      <td>29</td>\n      <td>Poland</td>\n      <td>FC Bayern München</td>\n      <td>77000000</td>\n      <td>205000</td>\n      <td>ST</td>\n    </tr>\n    <tr>\n      <th>11</th>\n      <td>T. Kroos</td>\n      <td>28</td>\n      <td>Germany</td>\n      <td>Real Madrid</td>\n      <td>76500000</td>\n      <td>355000</td>\n      <td>LCM</td>\n    </tr>\n    <tr>\n      <th>12</th>\n      <td>D. Godín</td>\n      <td>32</td>\n      <td>Uruguay</td>\n      <td>Atlético Madrid</td>\n      <td>44000000</td>\n      <td>125000</td>\n      <td>CB</td>\n    </tr>\n    <tr>\n      <th>13</th>\n      <td>David Silva</td>\n      <td>32</td>\n      <td>Spain</td>\n      <td>Manchester City</td>\n      <td>60000000</td>\n      <td>285000</td>\n      <td>LCM</td>\n    </tr>\n    <tr>\n      <th>14</th>\n      <td>N. Kanté</td>\n      <td>27</td>\n      <td>France</td>\n      <td>Chelsea</td>\n      <td>63000000</td>\n      <td>225000</td>\n      <td>LDM</td>\n    </tr>\n    <tr>\n      <th>15</th>\n      <td>P. Dybala</td>\n      <td>24</td>\n      <td>Argentina</td>\n      <td>Juventus</td>\n      <td>89000000</td>\n      <td>205000</td>\n      <td>LF</td>\n    </tr>\n    <tr>\n      <th>16</th>\n      <td>H. Kane</td>\n      <td>24</td>\n      <td>England</td>\n      <td>Tottenham Hotspur</td>\n      <td>83500000</td>\n      <td>205000</td>\n      <td>ST</td>\n    </tr>\n    <tr>\n      <th>17</th>\n      <td>A. Griezmann</td>\n      <td>27</td>\n      <td>France</td>\n      <td>Atlético Madrid</td>\n      <td>78000000</td>\n      <td>145000</td>\n      <td>CAM</td>\n    </tr>\n    <tr>\n      <th>18</th>\n      <td>M. ter Stegen</td>\n      <td>26</td>\n      <td>Germany</td>\n      <td>FC Barcelona</td>\n      <td>58000000</td>\n      <td>240000</td>\n      <td>GK</td>\n    </tr>\n    <tr>\n      <th>19</th>\n      <td>T. Courtois</td>\n      <td>26</td>\n      <td>Belgium</td>\n      <td>Real Madrid</td>\n      <td>53500000</td>\n      <td>240000</td>\n      <td>GK</td>\n    </tr>\n    <tr>\n      <th>20</th>\n      <td>Sergio Busquets</td>\n      <td>29</td>\n      <td>Spain</td>\n      <td>FC Barcelona</td>\n      <td>51500000</td>\n      <td>315000</td>\n      <td>CDM</td>\n    </tr>\n    <tr>\n      <th>21</th>\n      <td>E. Cavani</td>\n      <td>31</td>\n      <td>Uruguay</td>\n      <td>Paris Saint-Germain</td>\n      <td>60000000</td>\n      <td>200000</td>\n      <td>LS</td>\n    </tr>\n    <tr>\n      <th>22</th>\n      <td>M. Neuer</td>\n      <td>32</td>\n      <td>Germany</td>\n      <td>FC Bayern München</td>\n      <td>38000000</td>\n      <td>130000</td>\n      <td>GK</td>\n    </tr>\n    <tr>\n      <th>23</th>\n      <td>S. Agüero</td>\n      <td>30</td>\n      <td>Argentina</td>\n      <td>Manchester City</td>\n      <td>64500000</td>\n      <td>300000</td>\n      <td>ST</td>\n    </tr>\n    <tr>\n      <th>24</th>\n      <td>G. Chiellini</td>\n      <td>33</td>\n      <td>Italy</td>\n      <td>Juventus</td>\n      <td>27000000</td>\n      <td>215000</td>\n      <td>LCB</td>\n    </tr>\n  </tbody>\n</table>\n</div>"
     },
     "metadata": {},
     "execution_count": 9
    }
   ],
   "source": [
    "small_df = df[df.columns[1:8]].head(25)\n",
    "small_df"
   ]
  },
  {
   "cell_type": "code",
   "execution_count": 14,
   "metadata": {},
   "outputs": [
    {
     "output_type": "execute_result",
     "data": {
      "text/plain": "Index(['Spain', 'Uruguay', 'Belgium', 'Argentina', 'Germany', 'France',\n       'Portugal', 'Slovenia', 'Italy', 'Brazil', 'Croatia', 'Poland',\n       'England'],\n      dtype='object')"
     },
     "metadata": {},
     "execution_count": 14
    }
   ],
   "source": [
    "s = small_df['Nationality'].value_counts()\n",
    "# df['Nationality'].value_counts()\n",
    "s.index"
   ]
  },
  {
   "cell_type": "code",
   "execution_count": 17,
   "metadata": {},
   "outputs": [
    {
     "output_type": "execute_result",
     "data": {
      "text/plain": "650"
     },
     "metadata": {},
     "execution_count": 17
    }
   ],
   "source": [
    "c = df['Club'].value_counts()\n",
    "len(c.index)"
   ]
  },
  {
   "cell_type": "code",
   "execution_count": 18,
   "metadata": {},
   "outputs": [
    {
     "output_type": "execute_result",
     "data": {
      "text/plain": "V-Varen Nagasaki     30\nShonan Bellmare      30\nFC Emmen             29\nDe Graafschap        29\nPadova               29\n                     ..\nFC Metz               8\nDinamo Zagreb         7\nVitória Guimarães     7\nGD Chaves             7\nAtlético Mineiro      6\nName: Club, Length: 650, dtype: int64"
     },
     "metadata": {},
     "execution_count": 18
    }
   ],
   "source": [
    "c"
   ]
  },
  {
   "cell_type": "code",
   "execution_count": 21,
   "metadata": {},
   "outputs": [
    {
     "output_type": "execute_result",
     "data": {
      "text/plain": "GK     0.127239\nST     0.117237\nCB     0.108785\nCM     0.082732\nLB     0.077692\nRB     0.073505\nRM     0.059394\nLM     0.056447\nCDM    0.053578\nCAM    0.049081\nRCB    0.032411\nLCB    0.031713\nLW     0.018764\nRCM    0.018609\nRW     0.018376\nLCM    0.018066\nLDM    0.011476\nRDM    0.010700\nLS     0.009382\nRS     0.008839\nRWB    0.005428\nLWB    0.004652\nCF     0.003954\nLF     0.000620\nRF     0.000465\nLAM    0.000465\nRAM    0.000388\nName: Position, dtype: float64"
     },
     "metadata": {},
     "execution_count": 21
    }
   ],
   "source": [
    "p = df['Position'].value_counts(normalize=True)\n",
    "p"
   ]
  },
  {
   "cell_type": "code",
   "execution_count": 29,
   "metadata": {},
   "outputs": [
    {
     "output_type": "execute_result",
     "data": {
      "text/plain": "Interval(211750.0, 329500.0, closed='right')"
     },
     "metadata": {},
     "execution_count": 29
    }
   ],
   "source": [
    "s = small_df['Wage'].value_counts(bins=4)\n",
    "s\n",
    "s.index[0]"
   ]
  },
  {
   "cell_type": "code",
   "execution_count": 31,
   "metadata": {},
   "outputs": [
    {
     "output_type": "execute_result",
     "data": {
      "text/plain": "(21.2, 39.4]     4859\n(39.4, 57.6]     3957\n(57.6, 75.8]     2108\n(2.908, 21.2]    1760\n(75.8, 94.0]      213\nName: FKAccuracy, dtype: int64"
     },
     "metadata": {},
     "execution_count": 31
    }
   ],
   "source": [
    "fk = df['FKAccuracy'].value_counts(bins=5)\n",
    "fk"
   ]
  },
  {
   "cell_type": "code",
   "execution_count": 38,
   "metadata": {},
   "outputs": [
    {
     "output_type": "display_data",
     "data": {
      "text/plain": "Spain        4\nUruguay      3\nBelgium      3\nArgentina    3\nGermany      3\nFrance       2\nPortugal     1\nSlovenia     1\nItaly        1\nBrazil       1\nCroatia      1\nPoland       1\nEngland      1\nName: Nationality, dtype: int64"
     },
     "metadata": {}
    }
   ],
   "source": [
    "s = small_df['Nationality'].value_counts()\n",
    "display(s)"
   ]
  },
  {
   "cell_type": "code",
   "execution_count": 75,
   "metadata": {},
   "outputs": [
    {
     "output_type": "execute_result",
     "data": {
      "text/plain": "(620.999, 95750.0]      651\n(95750.0, 190500.0]      11\n(190500.0, 285250.0]      6\n(285250.0, 380000.0]      3\nName: Wage, dtype: int64"
     },
     "metadata": {},
     "execution_count": 75
    }
   ],
   "source": [
    "# w = df['Wage'].value_counts(bins=4)\n",
    "w = df[df.Nationality == 'Spain'].Wage.value_counts(bins=4)\n",
    "w\n",
    "# t = df[(df.Nationality == 'Spain') & (w.index[0].left < df.Wage) & (df.Wage <= w.index[0].right)]\n",
    "# t\n",
    "# len(t) / df['Nationality'].value_counts()['Spain']\n",
    "# 651/671\n",
    "\n",
    "# df[(df.Nationality == 'Spain') & (df.Wage < w.index[0].right)]"
   ]
  },
  {
   "cell_type": "code",
   "execution_count": 79,
   "metadata": {},
   "outputs": [
    {
     "output_type": "execute_result",
     "data": {
      "text/plain": "13"
     },
     "metadata": {},
     "execution_count": 79
    }
   ],
   "source": [
    "len(df[df.Club == 'Manchester United'].Nationality.value_counts())"
   ]
  },
  {
   "cell_type": "code",
   "execution_count": 83,
   "metadata": {},
   "outputs": [
    {
     "output_type": "execute_result",
     "data": {
      "text/plain": "    Unnamed: 0           Name  Age Nationality      Club     Value    Wage  \\\n64          64    Alex Sandro   27      Brazil  Juventus  36500000  160000   \n65          65  Douglas Costa   27      Brazil  Juventus  46500000  175000   \n\n   Position  Crossing  Finishing  ...  Penalties  Composure  Marking  \\\n64       LB        84         55  ...         60         82       81   \n65       LM        84         67  ...         77         84       45   \n\n    StandingTackle  SlidingTackle  GKDiving  GKHandling  GKKicking  \\\n64              84             84         7           7          9   \n65              38             34        13          15          9   \n\n    GKPositioning  GKReflexes  \n64             12           5  \n65             12           5  \n\n[2 rows x 42 columns]",
      "text/html": "<div>\n<style scoped>\n    .dataframe tbody tr th:only-of-type {\n        vertical-align: middle;\n    }\n\n    .dataframe tbody tr th {\n        vertical-align: top;\n    }\n\n    .dataframe thead th {\n        text-align: right;\n    }\n</style>\n<table border=\"1\" class=\"dataframe\">\n  <thead>\n    <tr style=\"text-align: right;\">\n      <th></th>\n      <th>Unnamed: 0</th>\n      <th>Name</th>\n      <th>Age</th>\n      <th>Nationality</th>\n      <th>Club</th>\n      <th>Value</th>\n      <th>Wage</th>\n      <th>Position</th>\n      <th>Crossing</th>\n      <th>Finishing</th>\n      <th>...</th>\n      <th>Penalties</th>\n      <th>Composure</th>\n      <th>Marking</th>\n      <th>StandingTackle</th>\n      <th>SlidingTackle</th>\n      <th>GKDiving</th>\n      <th>GKHandling</th>\n      <th>GKKicking</th>\n      <th>GKPositioning</th>\n      <th>GKReflexes</th>\n    </tr>\n  </thead>\n  <tbody>\n    <tr>\n      <th>64</th>\n      <td>64</td>\n      <td>Alex Sandro</td>\n      <td>27</td>\n      <td>Brazil</td>\n      <td>Juventus</td>\n      <td>36500000</td>\n      <td>160000</td>\n      <td>LB</td>\n      <td>84</td>\n      <td>55</td>\n      <td>...</td>\n      <td>60</td>\n      <td>82</td>\n      <td>81</td>\n      <td>84</td>\n      <td>84</td>\n      <td>7</td>\n      <td>7</td>\n      <td>9</td>\n      <td>12</td>\n      <td>5</td>\n    </tr>\n    <tr>\n      <th>65</th>\n      <td>65</td>\n      <td>Douglas Costa</td>\n      <td>27</td>\n      <td>Brazil</td>\n      <td>Juventus</td>\n      <td>46500000</td>\n      <td>175000</td>\n      <td>LM</td>\n      <td>84</td>\n      <td>67</td>\n      <td>...</td>\n      <td>77</td>\n      <td>84</td>\n      <td>45</td>\n      <td>38</td>\n      <td>34</td>\n      <td>13</td>\n      <td>15</td>\n      <td>9</td>\n      <td>12</td>\n      <td>5</td>\n    </tr>\n  </tbody>\n</table>\n<p>2 rows × 42 columns</p>\n</div>"
     },
     "metadata": {},
     "execution_count": 83
    }
   ],
   "source": [
    "df[(df.Nationality == 'Brazil') & (df.Club == 'Juventus')]"
   ]
  },
  {
   "cell_type": "code",
   "execution_count": 84,
   "metadata": {},
   "outputs": [
    {
     "output_type": "execute_result",
     "data": {
      "text/plain": "Hokkaido Consadole Sapporo    4\nClub Atlético Huracán         4\nClub Atlético Talleres        3\nHammarby IF                   3\nNagoya Grampus                3\n                             ..\nGöztepe SK                    1\nBoavista FC                   1\nDjurgårdens IF                1\nLASK Linz                     1\nFC København                  1\nName: Club, Length: 212, dtype: int64"
     },
     "metadata": {},
     "execution_count": 84
    }
   ],
   "source": [
    "df[df.Age > 35].Club.value_counts()"
   ]
  },
  {
   "cell_type": "code",
   "execution_count": 88,
   "metadata": {},
   "outputs": [
    {
     "output_type": "execute_result",
     "data": {
      "text/plain": "(22.25, 28.5]      200\n(15.974, 22.25]    197\n(28.5, 34.75]      128\n(34.75, 41.0]       49\nName: Age, dtype: int64"
     },
     "metadata": {},
     "execution_count": 88
    }
   ],
   "source": [
    "df[df.Nationality == 'Argentina'].Age.value_counts(bins=4)"
   ]
  },
  {
   "cell_type": "code",
   "execution_count": 92,
   "metadata": {},
   "outputs": [
    {
     "output_type": "execute_result",
     "data": {
      "text/plain": "0.11773472429210134"
     },
     "metadata": {},
     "execution_count": 92
    }
   ],
   "source": [
    "len(df[df.Nationality == 'Spain'])\n",
    "# 671\n",
    "len(df[(df.Nationality == 'Spain') & (df.Age == 21)])\n",
    "79/671"
   ]
  },
  {
   "cell_type": "code",
   "execution_count": 95,
   "metadata": {},
   "outputs": [
    {
     "output_type": "execute_result",
     "data": {
      "text/plain": "Position\nRAM       59000\nCF       248000\nLWB      347000\nLAM      366000\nRWB      420000\nLF       601000\nRF       714000\nLDM     1516000\nRS      1537000\nRDM     1557000\nLS      1866000\nLW      2945000\nLCM     3145000\nRCM     3241000\nRW      3276000\nLCB     3989000\nRCB     4711000\nCDM     4921000\nRB      5034000\nRM      5098000\nLM      5440000\nCAM     5500000\nLB      6096000\nCM      6194000\nCB      7476000\nGK      8784000\nST     11873000\nName: Wage, dtype: int64"
     },
     "metadata": {},
     "execution_count": 95
    }
   ],
   "source": [
    "df.groupby(['Position']).Wage.sum().sort_values()"
   ]
  },
  {
   "cell_type": "code",
   "execution_count": 99,
   "metadata": {},
   "outputs": [
    {
     "output_type": "execute_result",
     "data": {
      "text/plain": "                   Wage         Value\nPosition                             \nLF         75125.000000  2.736250e+07\nRF        119000.000000  2.636583e+07\nLAM        61000.000000  1.324583e+07\nRAM        11800.000000  8.345000e+06\nLS         15421.487603  5.848430e+06\nLCM        13497.854077  4.318090e+06\nRCM        13504.166667  4.217604e+06\nRS         13482.456140  3.645833e+06\nLW         12169.421488  3.603099e+06\nRW         13822.784810  3.495738e+06\nLDM        10243.243243  3.369459e+06\nRCB        11270.334928  3.009055e+06\nCAM         8688.783570  2.963199e+06\nRDM        11282.608696  2.692717e+06\nLCB         9753.056235  2.636516e+06\nLM          7472.527473  2.466174e+06\nST          7852.513228  2.157252e+06\nRM          6655.352480  2.138734e+06\nLWB         5783.333333  1.931333e+06\nCF          4862.745098  1.848627e+06\nCDM         7121.562952  1.658900e+06\nCM          5805.060918  1.617465e+06\nRWB         6000.000000  1.555571e+06\nGK          5352.833638  1.502502e+06\nLB          6083.832335  1.429032e+06\nCB          5328.581611  1.321251e+06\nRB          5310.126582  1.248940e+06",
      "text/html": "<div>\n<style scoped>\n    .dataframe tbody tr th:only-of-type {\n        vertical-align: middle;\n    }\n\n    .dataframe tbody tr th {\n        vertical-align: top;\n    }\n\n    .dataframe thead th {\n        text-align: right;\n    }\n</style>\n<table border=\"1\" class=\"dataframe\">\n  <thead>\n    <tr style=\"text-align: right;\">\n      <th></th>\n      <th>Wage</th>\n      <th>Value</th>\n    </tr>\n    <tr>\n      <th>Position</th>\n      <th></th>\n      <th></th>\n    </tr>\n  </thead>\n  <tbody>\n    <tr>\n      <th>LF</th>\n      <td>75125.000000</td>\n      <td>2.736250e+07</td>\n    </tr>\n    <tr>\n      <th>RF</th>\n      <td>119000.000000</td>\n      <td>2.636583e+07</td>\n    </tr>\n    <tr>\n      <th>LAM</th>\n      <td>61000.000000</td>\n      <td>1.324583e+07</td>\n    </tr>\n    <tr>\n      <th>RAM</th>\n      <td>11800.000000</td>\n      <td>8.345000e+06</td>\n    </tr>\n    <tr>\n      <th>LS</th>\n      <td>15421.487603</td>\n      <td>5.848430e+06</td>\n    </tr>\n    <tr>\n      <th>LCM</th>\n      <td>13497.854077</td>\n      <td>4.318090e+06</td>\n    </tr>\n    <tr>\n      <th>RCM</th>\n      <td>13504.166667</td>\n      <td>4.217604e+06</td>\n    </tr>\n    <tr>\n      <th>RS</th>\n      <td>13482.456140</td>\n      <td>3.645833e+06</td>\n    </tr>\n    <tr>\n      <th>LW</th>\n      <td>12169.421488</td>\n      <td>3.603099e+06</td>\n    </tr>\n    <tr>\n      <th>RW</th>\n      <td>13822.784810</td>\n      <td>3.495738e+06</td>\n    </tr>\n    <tr>\n      <th>LDM</th>\n      <td>10243.243243</td>\n      <td>3.369459e+06</td>\n    </tr>\n    <tr>\n      <th>RCB</th>\n      <td>11270.334928</td>\n      <td>3.009055e+06</td>\n    </tr>\n    <tr>\n      <th>CAM</th>\n      <td>8688.783570</td>\n      <td>2.963199e+06</td>\n    </tr>\n    <tr>\n      <th>RDM</th>\n      <td>11282.608696</td>\n      <td>2.692717e+06</td>\n    </tr>\n    <tr>\n      <th>LCB</th>\n      <td>9753.056235</td>\n      <td>2.636516e+06</td>\n    </tr>\n    <tr>\n      <th>LM</th>\n      <td>7472.527473</td>\n      <td>2.466174e+06</td>\n    </tr>\n    <tr>\n      <th>ST</th>\n      <td>7852.513228</td>\n      <td>2.157252e+06</td>\n    </tr>\n    <tr>\n      <th>RM</th>\n      <td>6655.352480</td>\n      <td>2.138734e+06</td>\n    </tr>\n    <tr>\n      <th>LWB</th>\n      <td>5783.333333</td>\n      <td>1.931333e+06</td>\n    </tr>\n    <tr>\n      <th>CF</th>\n      <td>4862.745098</td>\n      <td>1.848627e+06</td>\n    </tr>\n    <tr>\n      <th>CDM</th>\n      <td>7121.562952</td>\n      <td>1.658900e+06</td>\n    </tr>\n    <tr>\n      <th>CM</th>\n      <td>5805.060918</td>\n      <td>1.617465e+06</td>\n    </tr>\n    <tr>\n      <th>RWB</th>\n      <td>6000.000000</td>\n      <td>1.555571e+06</td>\n    </tr>\n    <tr>\n      <th>GK</th>\n      <td>5352.833638</td>\n      <td>1.502502e+06</td>\n    </tr>\n    <tr>\n      <th>LB</th>\n      <td>6083.832335</td>\n      <td>1.429032e+06</td>\n    </tr>\n    <tr>\n      <th>CB</th>\n      <td>5328.581611</td>\n      <td>1.321251e+06</td>\n    </tr>\n    <tr>\n      <th>RB</th>\n      <td>5310.126582</td>\n      <td>1.248940e+06</td>\n    </tr>\n  </tbody>\n</table>\n</div>"
     },
     "metadata": {},
     "execution_count": 99
    }
   ],
   "source": [
    "df.groupby(['Position'])[['Wage','Value']].mean().sort_values(['Value'], ascending=False)"
   ]
  },
  {
   "cell_type": "code",
   "execution_count": null,
   "metadata": {},
   "outputs": [],
   "source": []
  }
 ],
 "metadata": {
  "language_info": {
   "codemirror_mode": {
    "name": "ipython",
    "version": 3
   },
   "file_extension": ".py",
   "mimetype": "text/x-python",
   "name": "python",
   "nbconvert_exporter": "python",
   "pygments_lexer": "ipython3",
   "version": "3.7.7-final"
  },
  "orig_nbformat": 2,
  "kernelspec": {
   "name": "python37764bitvenvvenve45e44d36b5c4423b8fd94c391dcb8da",
   "display_name": "Python 3.7.7 64-bit ('.venv': venv)"
  }
 },
 "nbformat": 4,
 "nbformat_minor": 2
}